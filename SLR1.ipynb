{
 "cells": [
  {
   "cell_type": "markdown",
   "metadata": {},
   "source": [
    "## Problem Statement\n",
    "\n",
    "The New York City Controller's Office maintains a database of the salary and benefits paid to city employees since the financial year 2015. This is data representing the employee reimbursement report."
   ]
  },
  {
   "cell_type": "markdown",
   "metadata": {},
   "source": [
    "**Year:** Year of reimbursement\n",
    "\n",
    "**Type_of_yr:** Financial (July through June) or Calendar (January through December)\n",
    "\n",
    "**Emp_ID:**\tEach distinct number in the column represents one employee.  \n",
    "\n",
    "**Income:**\tIncome paid to permanent or temporary City employees. <br>\n",
    "\n",
    "**Other_Income:** Various irregular payments made to City employees including premium pay, incentive pay, or other one-time payments. \n",
    "\n",
    "**Overtime:** Amounts paid to employees for working in excess of 40 hours per week. \n",
    "\n",
    "**Total_Income:** The sum of all income paid to employees.\n",
    "\n",
    "**Health_Insurance:** Paid premiums to health insurance plans covering employees. \n",
    "\n",
    "**Retirement:**\t City contributions to employee retirement plans. <br>\n",
    "\n",
    "**Other_Benefits:** Benefits paid on behalf of employees that are not included in the above categories.<br>\n",
    "\n",
    "**Total_Benefits:**\tThe sum of all benefits paid to City employees.<br>\n",
    "\n",
    "**Total_Reimbursement:** The sum of all the income and benefits paid to City employees."
   ]
  },
  {
   "cell_type": "markdown",
   "metadata": {},
   "source": [
    "## Table of Content\n",
    "\n",
    "1. **[Import Libraries](#lib)**\n",
    "2. **[Data Preparation](#prep)**\n",
    "    - 2.1 - **[Understand the Data](#read)**\n",
    "    - 2.2 - **[Outlier Analysis and Treatment](#outlier)**\n",
    "    - 2.3 - **[Missing Value Analysis and Treatment](#null)**\n",
    "    - 2.4 - **[Scale the Data](#scale)**\n",
    "3. **[What is Regression Analysis?](#def)**\n",
    "4. **[Bivariate Regression](#Bivariate)**\n",
    "   - 4.1 - **[Ordinary Least Square Method (OLS)](#lsm)**\n",
    "   - 4.2 - **[Measures of Variation](#mv)**\n",
    "      - 4.2.1 - **[Sum of Squared Residuals (SSR)](#ssr)**\n",
    "      - 4.2.2 - **[Sum of Squared Error (SSE)](#sse)**\n",
    "      - 4.2.3 - **[Sum of Squared Total (SST)](#sst)**\n",
    "      - 4.2.4 - **[Coefficient of Determination (R-Squared)](#r2)**\n",
    "      - 4.2.5 - **[Standard Error of Estimate (SEE)](#see)**\n",
    "   - 4.3 - **[Inferences about Slope and Intercept](#inf)**\n",
    "      - 4.3.1 - **[Interpretation of Slope and Intercept](#inter)**\n",
    "      - 4.3.2 - **[The t-test for Slope and Intercept](#t_test)**\n",
    "      - 4.3.3 - **[Confidence Interval for Slope and Intercept](#ci)**\n",
    "      - 4.3.4 - **[ANOVA for SLR](#anova)**\n",
    "5. **[Multiple Linear Regression (MLR)](#MLR)**\n",
    "    - 5.1 - **[Assumptions Before MLR Model](#before)**\n",
    "        - 5.1.1 - **[Assumption on Dependent Variable](#dep_num)**\n",
    "        - 5.1.2 - **[No or Little Multicollinearity](#no_multi)**\n",
    "          - 5.1.2.1 - **[Correlation Matrix](#corr)**\n",
    "          - 5.1.2.2 - **[Variance Inflation Factor (VIF)](#vif)**\n",
    "    - 5.2 - **[Build the MLR Model](#model)** \n",
    "       - 5.2.1 - **[MLR Full Model](#full)**\n",
    "       - 5.2.2 - **[MLR Model after Removing Insignificant Variables](#signi_var)**\n",
    "       - 5.2.3 - **[MLR Model with Interaction Effect](#interaction)**\n",
    "    - 5.3 - **[Assumptions After MLR Model](#assum)**\n",
    "        - 5.3.1 - **[Linear Relationship between Dependent and Independent Variable](#linear_reln)**\n",
    "        - 5.3.2 - **[Autocorrelation](#auto)**\n",
    "        - 5.3.3 - **[Heteroskedasticity](#sked)**\n",
    "        - 5.3.4 - **[Tests for Normality](#normality)**\n",
    "6. **[Model Evaluation](#eval)**\n",
    "    - 6.1 - **[R-Squared](#R_squared)**\n",
    "    - 6.2 - **[Adjusted R-Squared](#Adj_R_test)**\n",
    "    - 6.3 - **[Overall F-Test & p-value of the Model](#overall)**\n",
    "7. **[Model Performance](#ml_perf)**\n",
    "    - 7.1 - **[Mean Squared Error (MSE)](#mse)**\n",
    "    - 7.2 - **[Root Mean Squared Error (RMSE)](#rmse)**\n",
    "    - 7.3 - **[Mean Absolute Error (MAE)](#mae)**\n",
    "    - 7.4 - **[Mean Absolute Percentage Error (MAPE)](#mape)**\n",
    "8. **[Compare Model Performances](#compare)**"
   ]
  },
  {
   "cell_type": "markdown",
   "metadata": {},
   "source": [
    "<a id=\"lib\"></a>\n",
    "# 1. Import Libraries"
   ]
  },
  {
   "cell_type": "markdown",
   "metadata": {},
   "source": [
    "**Let us import the required libraries.**"
   ]
  },
  {
   "cell_type": "code",
   "execution_count": 1,
   "metadata": {},
   "outputs": [],
   "source": [
    "# import 'Pandas' \n",
    "import pandas as pd \n",
    "\n",
    "# import 'Numpy' \n",
    "import numpy as np\n",
    "\n",
    "# import subpackage of Matplotlib\n",
    "import matplotlib.pyplot as plt\n",
    "\n",
    "# import 'Seaborn' \n",
    "import seaborn as sns\n",
    "\n",
    "# to suppress warnings \n",
    "from warnings import filterwarnings\n",
    "filterwarnings('ignore')\n",
    "\n",
    "# display all columns of the dataframe\n",
    "pd.options.display.max_columns = None\n",
    "\n",
    "# display all rows of the dataframe\n",
    "pd.options.display.max_rows = None\n",
    " \n",
    "# to display the float values upto 6 decimal places     \n",
    "pd.options.display.float_format = '{:.6f}'.format\n",
    "\n",
    "# import train-test split \n",
    "from sklearn.model_selection import train_test_split\n",
    "\n",
    "# import various functions from statsmodel to perform linear regression\n",
    "import statsmodels\n",
    "import statsmodels.api as sm\n",
    "import statsmodels.stats.api as sms\n",
    "from statsmodels.compat import lzip\n",
    "from statsmodels.stats.outliers_influence import variance_inflation_factor\n",
    "from statsmodels.graphics.gofplots import qqplot\n",
    "from statsmodels.stats.anova import anova_lm\n",
    "from statsmodels.formula.api import ols\n",
    "from statsmodels.tools.eval_measures import rmse\n",
    "\n",
    "# import various functions from scipy\n",
    "from scipy import stats\n",
    "from scipy.stats import shapiro\n",
    "\n",
    "# 'metrics' from sklearn is used for evaluating the model performance\n",
    "from sklearn.metrics import mean_absolute_error\n",
    "from sklearn.metrics import mean_squared_error"
   ]
  },
  {
   "cell_type": "markdown",
   "metadata": {},
   "source": [
    "<a id=\"prep\"></a>\n",
    "# 2. Data Preparation"
   ]
  },
  {
   "cell_type": "markdown",
   "metadata": {},
   "source": [
    "<a id=\"read\"></a>\n",
    "## 2.1 Understand the Data"
   ]
  },
  {
   "cell_type": "markdown",
   "metadata": {},
   "source": [
    "#### Read the dataset and print the first five observations."
   ]
  },
  {
   "cell_type": "code",
   "execution_count": 2,
   "metadata": {
    "scrolled": false
   },
   "outputs": [
    {
     "data": {
      "text/html": [
       "<div>\n",
       "<style scoped>\n",
       "    .dataframe tbody tr th:only-of-type {\n",
       "        vertical-align: middle;\n",
       "    }\n",
       "\n",
       "    .dataframe tbody tr th {\n",
       "        vertical-align: top;\n",
       "    }\n",
       "\n",
       "    .dataframe thead th {\n",
       "        text-align: right;\n",
       "    }\n",
       "</style>\n",
       "<table border=\"1\" class=\"dataframe\">\n",
       "  <thead>\n",
       "    <tr style=\"text-align: right;\">\n",
       "      <th></th>\n",
       "      <th>Year</th>\n",
       "      <th>Type_of_yr</th>\n",
       "      <th>Emp_ID</th>\n",
       "      <th>Income</th>\n",
       "      <th>Other_Income</th>\n",
       "      <th>Overtime</th>\n",
       "      <th>Total_Income</th>\n",
       "      <th>Health_Insurance</th>\n",
       "      <th>Retirement</th>\n",
       "      <th>Other_Benefits</th>\n",
       "      <th>Total_Benefits</th>\n",
       "      <th>Total_Reimbursement</th>\n",
       "    </tr>\n",
       "  </thead>\n",
       "  <tbody>\n",
       "    <tr>\n",
       "      <th>0</th>\n",
       "      <td>2015</td>\n",
       "      <td>Financial</td>\n",
       "      <td>42865</td>\n",
       "      <td>92288.220000</td>\n",
       "      <td>267.450000</td>\n",
       "      <td>270.450000</td>\n",
       "      <td>92826.120000</td>\n",
       "      <td>12500.560000</td>\n",
       "      <td>20703.200000</td>\n",
       "      <td>7605.750000</td>\n",
       "      <td>40809.510000</td>\n",
       "      <td>133635.630000</td>\n",
       "    </tr>\n",
       "    <tr>\n",
       "      <th>1</th>\n",
       "      <td>2015</td>\n",
       "      <td>Calendar</td>\n",
       "      <td>28253</td>\n",
       "      <td>1466.380000</td>\n",
       "      <td>0.000000</td>\n",
       "      <td>350.230000</td>\n",
       "      <td>1816.610000</td>\n",
       "      <td>442.030000</td>\n",
       "      <td>3.000000</td>\n",
       "      <td>141.590000</td>\n",
       "      <td>586.620000</td>\n",
       "      <td>2403.230000</td>\n",
       "    </tr>\n",
       "    <tr>\n",
       "      <th>2</th>\n",
       "      <td>2018</td>\n",
       "      <td>Financial</td>\n",
       "      <td>30664</td>\n",
       "      <td>76536.950000</td>\n",
       "      <td>10855.940000</td>\n",
       "      <td>13586.720000</td>\n",
       "      <td>100979.610000</td>\n",
       "      <td>12464.610000</td>\n",
       "      <td>18636.190000</td>\n",
       "      <td>8011.410000</td>\n",
       "      <td>39112.210000</td>\n",
       "      <td>140091.820000</td>\n",
       "    </tr>\n",
       "    <tr>\n",
       "      <th>3</th>\n",
       "      <td>2018</td>\n",
       "      <td>Financial</td>\n",
       "      <td>19482</td>\n",
       "      <td>45659.880000</td>\n",
       "      <td>1625.370000</td>\n",
       "      <td>3.000000</td>\n",
       "      <td>47288.250000</td>\n",
       "      <td>0.000000</td>\n",
       "      <td>10084.200000</td>\n",
       "      <td>3936.630000</td>\n",
       "      <td>14020.830000</td>\n",
       "      <td>61309.080000</td>\n",
       "    </tr>\n",
       "    <tr>\n",
       "      <th>4</th>\n",
       "      <td>2017</td>\n",
       "      <td>Financial</td>\n",
       "      <td>7183</td>\n",
       "      <td>41832.000000</td>\n",
       "      <td>0.000000</td>\n",
       "      <td>6.000000</td>\n",
       "      <td>41838.000000</td>\n",
       "      <td>5908.520000</td>\n",
       "      <td>7621.600000</td>\n",
       "      <td>3254.500000</td>\n",
       "      <td>16784.620000</td>\n",
       "      <td>58622.620000</td>\n",
       "    </tr>\n",
       "  </tbody>\n",
       "</table>\n",
       "</div>"
      ],
      "text/plain": [
       "   Year Type_of_yr  Emp_ID       Income  Other_Income     Overtime  \\\n",
       "0  2015  Financial   42865 92288.220000    267.450000   270.450000   \n",
       "1  2015   Calendar   28253  1466.380000      0.000000   350.230000   \n",
       "2  2018  Financial   30664 76536.950000  10855.940000 13586.720000   \n",
       "3  2018  Financial   19482 45659.880000   1625.370000     3.000000   \n",
       "4  2017  Financial    7183 41832.000000      0.000000     6.000000   \n",
       "\n",
       "   Total_Income  Health_Insurance   Retirement  Other_Benefits  \\\n",
       "0  92826.120000      12500.560000 20703.200000     7605.750000   \n",
       "1   1816.610000        442.030000     3.000000      141.590000   \n",
       "2 100979.610000      12464.610000 18636.190000     8011.410000   \n",
       "3  47288.250000          0.000000 10084.200000     3936.630000   \n",
       "4  41838.000000       5908.520000  7621.600000     3254.500000   \n",
       "\n",
       "   Total_Benefits  Total_Reimbursement  \n",
       "0    40809.510000        133635.630000  \n",
       "1      586.620000          2403.230000  \n",
       "2    39112.210000        140091.820000  \n",
       "3    14020.830000         61309.080000  \n",
       "4    16784.620000         58622.620000  "
      ]
     },
     "execution_count": 2,
     "metadata": {},
     "output_type": "execute_result"
    }
   ],
   "source": [
    "# load the csv file\n",
    "# store the data in 'df_reimb'\n",
    "df_reimb = pd.read_csv('Emp_reimb.csv')\n",
    "\n",
    "# display first five observations using head()\n",
    "df_reimb.head()"
   ]
  },
  {
   "cell_type": "markdown",
   "metadata": {},
   "source": [
    "**Let us now see the number of variables and observations in the data.**"
   ]
  },
  {
   "cell_type": "code",
   "execution_count": 3,
   "metadata": {},
   "outputs": [
    {
     "data": {
      "text/plain": [
       "(49794, 12)"
      ]
     },
     "execution_count": 3,
     "metadata": {},
     "output_type": "execute_result"
    }
   ],
   "source": [
    "# use 'shape' to check the dimension of data\n",
    "df_reimb.shape"
   ]
  },
  {
   "cell_type": "markdown",
   "metadata": {},
   "source": [
    "**Interpretation:** The data has 49794 observations and 12 variables."
   ]
  },
  {
   "cell_type": "markdown",
   "metadata": {},
   "source": [
    "**Get a concise summary of the DataFrame.**"
   ]
  },
  {
   "cell_type": "code",
   "execution_count": 4,
   "metadata": {
    "scrolled": false
   },
   "outputs": [
    {
     "name": "stdout",
     "output_type": "stream",
     "text": [
      "<class 'pandas.core.frame.DataFrame'>\n",
      "RangeIndex: 49794 entries, 0 to 49793\n",
      "Data columns (total 12 columns):\n",
      " #   Column               Non-Null Count  Dtype  \n",
      "---  ------               --------------  -----  \n",
      " 0   Year                 49794 non-null  int64  \n",
      " 1   Type_of_yr           49794 non-null  object \n",
      " 2   Emp_ID               49794 non-null  int64  \n",
      " 3   Income               49794 non-null  float64\n",
      " 4   Other_Income         49794 non-null  float64\n",
      " 5   Overtime             49794 non-null  float64\n",
      " 6   Total_Income         49794 non-null  float64\n",
      " 7   Health_Insurance     49794 non-null  float64\n",
      " 8   Retirement           49794 non-null  float64\n",
      " 9   Other_Benefits       49794 non-null  float64\n",
      " 10  Total_Benefits       49794 non-null  float64\n",
      " 11  Total_Reimbursement  49794 non-null  float64\n",
      "dtypes: float64(9), int64(2), object(1)\n",
      "memory usage: 4.6+ MB\n"
     ]
    }
   ],
   "source": [
    "# use 'info()' to understand the dataset\n",
    "df_reimb.info()"
   ]
  },
  {
   "cell_type": "markdown",
   "metadata": {},
   "source": [
    "**Interpretation:** The variable `Type_of_yr` is categorical. All the other variables are numerical.\n",
    "\n",
    "From the above output, we see that the data type of `Year` is 'int64'.\n",
    "\n",
    "But according to the data definition, `Year` is categorical variable, which is wrongly interpreted as 'int64', so we will convert these variables data type to 'object'."
   ]
  },
  {
   "cell_type": "markdown",
   "metadata": {},
   "source": [
    "#### Change the data type as per the data definition."
   ]
  },
  {
   "cell_type": "code",
   "execution_count": 5,
   "metadata": {},
   "outputs": [],
   "source": [
    "# convert numerical variables to categorical (object) \n",
    "# use astype() to change the data type\n",
    "\n",
    "# change the data type of 'Year'\n",
    "df_reimb['Year'] = df_reimb['Year'].astype(object)"
   ]
  },
  {
   "cell_type": "markdown",
   "metadata": {},
   "source": [
    "#### Recheck the data type after the conversion. "
   ]
  },
  {
   "cell_type": "code",
   "execution_count": 6,
   "metadata": {},
   "outputs": [
    {
     "data": {
      "text/plain": [
       "Year                    object\n",
       "Type_of_yr              object\n",
       "Emp_ID                   int64\n",
       "Income                 float64\n",
       "Other_Income           float64\n",
       "Overtime               float64\n",
       "Total_Income           float64\n",
       "Health_Insurance       float64\n",
       "Retirement             float64\n",
       "Other_Benefits         float64\n",
       "Total_Benefits         float64\n",
       "Total_Reimbursement    float64\n",
       "dtype: object"
      ]
     },
     "execution_count": 6,
     "metadata": {},
     "output_type": "execute_result"
    }
   ],
   "source": [
    "# recheck the data types using 'dtypes'\n",
    "df_reimb.dtypes"
   ]
  },
  {
   "cell_type": "markdown",
   "metadata": {},
   "source": [
    "**Interpretation:** Now, all the variables have the correct data type."
   ]
  },
  {
   "cell_type": "markdown",
   "metadata": {},
   "source": [
    "<a id=\"drop\"></a>\n",
    "## 2.3 Remove Insignificant Variables"
   ]
  },
  {
   "cell_type": "markdown",
   "metadata": {},
   "source": [
    "The column `Emp_ID` contains the id of the employee, which is redundant for further analysis. Thus, we drop the column."
   ]
  },
  {
   "cell_type": "code",
   "execution_count": 7,
   "metadata": {},
   "outputs": [],
   "source": [
    "# drop the column 'Emp_ID' using drop()\n",
    "# 'axis = 1' drops the specified column\n",
    "df_reimb = df_reimb.drop('Emp_ID',axis=1)"
   ]
  },
  {
   "cell_type": "markdown",
   "metadata": {},
   "source": [
    "<a id=\"outlier\"></a>\n",
    "## 2.2 Outlier Analysis and Treatment"
   ]
  },
  {
   "cell_type": "markdown",
   "metadata": {},
   "source": [
    "**Check the outliers in all the variables and treat them using appropriate techniques.**"
   ]
  },
  {
   "cell_type": "code",
   "execution_count": 8,
   "metadata": {},
   "outputs": [
    {
     "data": {
      "image/png": "[encoded data removed]",
      "text/plain": [
       "<Figure size 1080x576 with 1 Axes>"
      ]
     },
     "metadata": {
      "needs_background": "light"
     },
     "output_type": "display_data"
    }
   ],
   "source": [
    "# set the plot size using figure()\n",
    "# pass width and height in inches to 'figsize' \n",
    "plt.figure(figsize = (15,8))\n",
    "\n",
    "# plot a boxplot to visualize the outliers in all the numeric variables\n",
    "df_reimb.boxplot()\n",
    "\n",
    "# set plot label\n",
    "# set text size using 'fontsize'\n",
    "plt.title('Distribution of all Numeric Variables', fontsize = 15)\n",
    "\n",
    "# xticks() returns the x-axis ticks\n",
    "# 'rotation = vertical' rotates the x-axis labels vertically\n",
    "plt.xticks(rotation = 'vertical', fontsize = 15)\n",
    "\n",
    "# display the plot\n",
    "plt.show()"
   ]
  },
  {
   "cell_type": "markdown",
   "metadata": {},
   "source": [
    "**Notice that the variables 'Income', 'Total_Income' and 'Total_Reimbursement' have a quite large range as compared to the other variables. Thus, it is difficult to see the outliers in such variables. So, we plot the boxplots of independent variables again by not considering the variables 'Income', 'Total_Income' and 'Total_Reimbursement'. The variable Health_Insurance has no outliers.**"
   ]
  },
  {
   "cell_type": "code",
   "execution_count": 9,
   "metadata": {},
   "outputs": [
    {
     "data": {
      "image/png": "[encoded data removed]",
      "text/plain": [
       "<Figure size 1080x576 with 1 Axes>"
      ]
     },
     "metadata": {
      "needs_background": "light"
     },
     "output_type": "display_data"
    }
   ],
   "source": [
    "# boxplot of independent variables\n",
    "\n",
    "# set the plot size using figure()\n",
    "# pass width and height in inches to 'figsize' \n",
    "plt.figure(figsize = (15,8))\n",
    "\n",
    "# plot boxplots of all the numeric variables except the variables 'Income', 'Total_Income' and 'Total_Reimbursement' \n",
    "# use 'loc[]' to select the variables\n",
    "df_reimb.loc[:,['Other_Income', 'Overtime', 'Health_Insurance', 'Retirement', 'Other_Benefits', 'Total_Benefits']].boxplot()\n",
    "\n",
    "# set plot label\n",
    "# set text size using 'fontsize'\n",
    "plt.title('Distribution of Independent Variables', fontsize = 15)\n",
    "\n",
    "# xticks() returns the x-axis ticks\n",
    "# 'rotation = vertical' rotates the x-axis labels vertically\n",
    "plt.xticks(rotation = 'vertical', fontsize = 15)\n",
    "\n",
    "# display the plot\n",
    "plt.show()"
   ]
  },
  {
   "cell_type": "markdown",
   "metadata": {},
   "source": [
    "**Interpretation:** From the above plots, we notice that all the variables except 'Helath_Insurance' have points above the upper extreme or below the lower extreme - these points are outliers in the data. However, the exact location of these points is not precisely seen.\n",
    "\n",
    "Let us use the IQR method to remove the outliers."
   ]
  },
  {
   "cell_type": "code",
   "execution_count": 10,
   "metadata": {},
   "outputs": [
    {
     "data": {
      "text/plain": [
       "(37601, 11)"
      ]
     },
     "execution_count": 10,
     "metadata": {},
     "output_type": "execute_result"
    }
   ],
   "source": [
    "# calculate the first quartile\n",
    "Q1 = df_reimb.quantile(0.25)\n",
    "\n",
    "# calculate the third quartile\n",
    "Q3 = df_reimb.quantile(0.75)\n",
    "\n",
    "# The Interquartile Range (IQR) is defined as the difference between the third and first quartile\n",
    "# calculate IQR for each numeric variable\n",
    "IQR = Q3 - Q1\n",
    "\n",
    "# retrieve the dataframe without the outliers\n",
    "# '~' returns the values that do not satisfy the given conditions \n",
    "# i.e. it returns values between the range [Q1-1.5*IQR, Q3+1.5*IQR]\n",
    "# '|' is used as 'OR' operator on multiple conditions   \n",
    "# 'any(axis=1)' checks the entire row for atleast one 'True' entry (those rows represents outliers in the data)\n",
    "df_reimb = df_reimb[~((df_reimb < (Q1 - 1.5 * IQR)) | (df_reimb > (Q3 + 1.5 * IQR))).any(axis=1)]\n",
    "\n",
    "# check the shape of the data\n",
    "df_reimb.shape"
   ]
  },
  {
   "cell_type": "markdown",
   "metadata": {},
   "source": [
    "**Interpretation:** A crude way to know whether the outliers have been removed or not is to check the dimensions of the data. From the above output, we can see that the dimensions are reduced that implies outliers are removed."
   ]
  },
  {
   "cell_type": "markdown",
   "metadata": {},
   "source": [
    "<a id=\"null\"></a>\n",
    "## 2.3 Missing Value Analysis and Treatment"
   ]
  },
  {
   "cell_type": "markdown",
   "metadata": {},
   "source": [
    "**Check the presence of missing values in the data and treat them.**"
   ]
  },
  {
   "cell_type": "code",
   "execution_count": 11,
   "metadata": {},
   "outputs": [
    {
     "data": {
      "text/html": [
       "<div>\n",
       "<style scoped>\n",
       "    .dataframe tbody tr th:only-of-type {\n",
       "        vertical-align: middle;\n",
       "    }\n",
       "\n",
       "    .dataframe tbody tr th {\n",
       "        vertical-align: top;\n",
       "    }\n",
       "\n",
       "    .dataframe thead th {\n",
       "        text-align: right;\n",
       "    }\n",
       "</style>\n",
       "<table border=\"1\" class=\"dataframe\">\n",
       "  <thead>\n",
       "    <tr style=\"text-align: right;\">\n",
       "      <th></th>\n",
       "      <th>Total</th>\n",
       "      <th>Percentage of Missing Values</th>\n",
       "    </tr>\n",
       "  </thead>\n",
       "  <tbody>\n",
       "    <tr>\n",
       "      <th>Total_Reimbursement</th>\n",
       "      <td>0</td>\n",
       "      <td>0.000000</td>\n",
       "    </tr>\n",
       "    <tr>\n",
       "      <th>Total_Benefits</th>\n",
       "      <td>0</td>\n",
       "      <td>0.000000</td>\n",
       "    </tr>\n",
       "    <tr>\n",
       "      <th>Other_Benefits</th>\n",
       "      <td>0</td>\n",
       "      <td>0.000000</td>\n",
       "    </tr>\n",
       "    <tr>\n",
       "      <th>Retirement</th>\n",
       "      <td>0</td>\n",
       "      <td>0.000000</td>\n",
       "    </tr>\n",
       "    <tr>\n",
       "      <th>Health_Insurance</th>\n",
       "      <td>0</td>\n",
       "      <td>0.000000</td>\n",
       "    </tr>\n",
       "    <tr>\n",
       "      <th>Total_Income</th>\n",
       "      <td>0</td>\n",
       "      <td>0.000000</td>\n",
       "    </tr>\n",
       "    <tr>\n",
       "      <th>Overtime</th>\n",
       "      <td>0</td>\n",
       "      <td>0.000000</td>\n",
       "    </tr>\n",
       "    <tr>\n",
       "      <th>Other_Income</th>\n",
       "      <td>0</td>\n",
       "      <td>0.000000</td>\n",
       "    </tr>\n",
       "    <tr>\n",
       "      <th>Income</th>\n",
       "      <td>0</td>\n",
       "      <td>0.000000</td>\n",
       "    </tr>\n",
       "    <tr>\n",
       "      <th>Type_of_yr</th>\n",
       "      <td>0</td>\n",
       "      <td>0.000000</td>\n",
       "    </tr>\n",
       "    <tr>\n",
       "      <th>Year</th>\n",
       "      <td>0</td>\n",
       "      <td>0.000000</td>\n",
       "    </tr>\n",
       "  </tbody>\n",
       "</table>\n",
       "</div>"
      ],
      "text/plain": [
       "                     Total  Percentage of Missing Values\n",
       "Total_Reimbursement      0                      0.000000\n",
       "Total_Benefits           0                      0.000000\n",
       "Other_Benefits           0                      0.000000\n",
       "Retirement               0                      0.000000\n",
       "Health_Insurance         0                      0.000000\n",
       "Total_Income             0                      0.000000\n",
       "Overtime                 0                      0.000000\n",
       "Other_Income             0                      0.000000\n",
       "Income                   0                      0.000000\n",
       "Type_of_yr               0                      0.000000\n",
       "Year                     0                      0.000000"
      ]
     },
     "execution_count": 11,
     "metadata": {},
     "output_type": "execute_result"
    }
   ],
   "source": [
    "# sort the variables on the basis of total null values in the variable\n",
    "# 'isnull().sum()' returns the number of missing values in each variable\n",
    "# 'ascending = False' sorts values in the descending order\n",
    "# the variable with highest number of missing values will appear first\n",
    "Total = df_reimb.isnull().sum().sort_values(ascending=False)          \n",
    "\n",
    "# calculate percentage of missing values\n",
    "# 'ascending = False' sorts values in the descending order\n",
    "# the variable with highest percentage of missing values will appear first\n",
    "Percent = (df_reimb.isnull().sum()*100/df_reimb.isnull().count()).sort_values(ascending=False)   \n",
    "\n",
    "# concat the 'Total' and 'Percent' columns using 'concat' function\n",
    "# pass a list of column names in parameter 'keys' \n",
    "# 'axis = 1' concats along the columns\n",
    "missing_data = pd.concat([Total, Percent], axis=1, keys=['Total', 'Percentage of Missing Values'])    \n",
    "missing_data"
   ]
  },
  {
   "cell_type": "markdown",
   "metadata": {},
   "source": [
    "**Interpretation:** There are no missing values in the data."
   ]
  },
  {
   "cell_type": "markdown",
   "metadata": {},
   "source": [
    "<a id=\"scale\"></a>\n",
    "## 2.4 Scale the Data"
   ]
  },
  {
   "cell_type": "code",
   "execution_count": 12,
   "metadata": {},
   "outputs": [
    {
     "data": {
      "text/html": [
       "<div>\n",
       "<style scoped>\n",
       "    .dataframe tbody tr th:only-of-type {\n",
       "        vertical-align: middle;\n",
       "    }\n",
       "\n",
       "    .dataframe tbody tr th {\n",
       "        vertical-align: top;\n",
       "    }\n",
       "\n",
       "    .dataframe thead th {\n",
       "        text-align: right;\n",
       "    }\n",
       "</style>\n",
       "<table border=\"1\" class=\"dataframe\">\n",
       "  <thead>\n",
       "    <tr style=\"text-align: right;\">\n",
       "      <th></th>\n",
       "      <th>Year</th>\n",
       "      <th>Type_of_yr</th>\n",
       "      <th>Income</th>\n",
       "      <th>Other_Income</th>\n",
       "      <th>Overtime</th>\n",
       "      <th>Total_Income</th>\n",
       "      <th>Health_Insurance</th>\n",
       "      <th>Retirement</th>\n",
       "      <th>Other_Benefits</th>\n",
       "      <th>Total_Benefits</th>\n",
       "      <th>Total_Reimbursement</th>\n",
       "    </tr>\n",
       "  </thead>\n",
       "  <tbody>\n",
       "    <tr>\n",
       "      <th>0</th>\n",
       "      <td>2015</td>\n",
       "      <td>Financial</td>\n",
       "      <td>92288.220000</td>\n",
       "      <td>267.450000</td>\n",
       "      <td>270.450000</td>\n",
       "      <td>92826.120000</td>\n",
       "      <td>12500.560000</td>\n",
       "      <td>20703.200000</td>\n",
       "      <td>7605.750000</td>\n",
       "      <td>40809.510000</td>\n",
       "      <td>133635.630000</td>\n",
       "    </tr>\n",
       "    <tr>\n",
       "      <th>1</th>\n",
       "      <td>2015</td>\n",
       "      <td>Calendar</td>\n",
       "      <td>1466.380000</td>\n",
       "      <td>0.000000</td>\n",
       "      <td>350.230000</td>\n",
       "      <td>1816.610000</td>\n",
       "      <td>442.030000</td>\n",
       "      <td>3.000000</td>\n",
       "      <td>141.590000</td>\n",
       "      <td>586.620000</td>\n",
       "      <td>2403.230000</td>\n",
       "    </tr>\n",
       "    <tr>\n",
       "      <th>3</th>\n",
       "      <td>2018</td>\n",
       "      <td>Financial</td>\n",
       "      <td>45659.880000</td>\n",
       "      <td>1625.370000</td>\n",
       "      <td>3.000000</td>\n",
       "      <td>47288.250000</td>\n",
       "      <td>0.000000</td>\n",
       "      <td>10084.200000</td>\n",
       "      <td>3936.630000</td>\n",
       "      <td>14020.830000</td>\n",
       "      <td>61309.080000</td>\n",
       "    </tr>\n",
       "    <tr>\n",
       "      <th>4</th>\n",
       "      <td>2017</td>\n",
       "      <td>Financial</td>\n",
       "      <td>41832.000000</td>\n",
       "      <td>0.000000</td>\n",
       "      <td>6.000000</td>\n",
       "      <td>41838.000000</td>\n",
       "      <td>5908.520000</td>\n",
       "      <td>7621.600000</td>\n",
       "      <td>3254.500000</td>\n",
       "      <td>16784.620000</td>\n",
       "      <td>58622.620000</td>\n",
       "    </tr>\n",
       "    <tr>\n",
       "      <th>5</th>\n",
       "      <td>2017</td>\n",
       "      <td>Calendar</td>\n",
       "      <td>74132.000000</td>\n",
       "      <td>1443.420000</td>\n",
       "      <td>4.000000</td>\n",
       "      <td>75579.420000</td>\n",
       "      <td>12888.340000</td>\n",
       "      <td>14855.230000</td>\n",
       "      <td>6233.850000</td>\n",
       "      <td>33977.420000</td>\n",
       "      <td>109556.840000</td>\n",
       "    </tr>\n",
       "  </tbody>\n",
       "</table>\n",
       "</div>"
      ],
      "text/plain": [
       "   Year Type_of_yr       Income  Other_Income   Overtime  Total_Income  \\\n",
       "0  2015  Financial 92288.220000    267.450000 270.450000  92826.120000   \n",
       "1  2015   Calendar  1466.380000      0.000000 350.230000   1816.610000   \n",
       "3  2018  Financial 45659.880000   1625.370000   3.000000  47288.250000   \n",
       "4  2017  Financial 41832.000000      0.000000   6.000000  41838.000000   \n",
       "5  2017   Calendar 74132.000000   1443.420000   4.000000  75579.420000   \n",
       "\n",
       "   Health_Insurance   Retirement  Other_Benefits  Total_Benefits  \\\n",
       "0      12500.560000 20703.200000     7605.750000    40809.510000   \n",
       "1        442.030000     3.000000      141.590000      586.620000   \n",
       "3          0.000000 10084.200000     3936.630000    14020.830000   \n",
       "4       5908.520000  7621.600000     3254.500000    16784.620000   \n",
       "5      12888.340000 14855.230000     6233.850000    33977.420000   \n",
       "\n",
       "   Total_Reimbursement  \n",
       "0        133635.630000  \n",
       "1          2403.230000  \n",
       "3         61309.080000  \n",
       "4         58622.620000  \n",
       "5        109556.840000  "
      ]
     },
     "execution_count": 12,
     "metadata": {},
     "output_type": "execute_result"
    }
   ],
   "source": [
    "# check the head of the data\n",
    "df_reimb.head()"
   ]
  },
  {
   "cell_type": "code",
   "execution_count": 13,
   "metadata": {},
   "outputs": [
    {
     "data": {
      "text/html": [
       "<div>\n",
       "<style scoped>\n",
       "    .dataframe tbody tr th:only-of-type {\n",
       "        vertical-align: middle;\n",
       "    }\n",
       "\n",
       "    .dataframe tbody tr th {\n",
       "        vertical-align: top;\n",
       "    }\n",
       "\n",
       "    .dataframe thead th {\n",
       "        text-align: right;\n",
       "    }\n",
       "</style>\n",
       "<table border=\"1\" class=\"dataframe\">\n",
       "  <thead>\n",
       "    <tr style=\"text-align: right;\">\n",
       "      <th></th>\n",
       "      <th>Year</th>\n",
       "      <th>Type_of_yr</th>\n",
       "      <th>Income</th>\n",
       "      <th>Other_Income</th>\n",
       "      <th>Overtime</th>\n",
       "      <th>Total_Income</th>\n",
       "      <th>Health_Insurance</th>\n",
       "      <th>Retirement</th>\n",
       "      <th>Other_Benefits</th>\n",
       "      <th>Total_Benefits</th>\n",
       "      <th>Total_Reimbursement</th>\n",
       "    </tr>\n",
       "  </thead>\n",
       "  <tbody>\n",
       "    <tr>\n",
       "      <th>0</th>\n",
       "      <td>2015</td>\n",
       "      <td>Financial</td>\n",
       "      <td>0.979272</td>\n",
       "      <td>-0.476483</td>\n",
       "      <td>-0.234449</td>\n",
       "      <td>0.921924</td>\n",
       "      <td>0.911621</td>\n",
       "      <td>1.173963</td>\n",
       "      <td>1.141794</td>\n",
       "      <td>1.156388</td>\n",
       "      <td>0.996728</td>\n",
       "    </tr>\n",
       "    <tr>\n",
       "      <th>1</th>\n",
       "      <td>2015</td>\n",
       "      <td>Calendar</td>\n",
       "      <td>-1.259481</td>\n",
       "      <td>-0.588280</td>\n",
       "      <td>-0.175594</td>\n",
       "      <td>-1.270526</td>\n",
       "      <td>-1.504303</td>\n",
       "      <td>-1.186975</td>\n",
       "      <td>-1.269380</td>\n",
       "      <td>-1.374560</td>\n",
       "      <td>-1.312351</td>\n",
       "    </tr>\n",
       "    <tr>\n",
       "      <th>3</th>\n",
       "      <td>2018</td>\n",
       "      <td>Financial</td>\n",
       "      <td>-0.170114</td>\n",
       "      <td>0.091140</td>\n",
       "      <td>-0.431752</td>\n",
       "      <td>-0.175099</td>\n",
       "      <td>-1.592864</td>\n",
       "      <td>-0.037175</td>\n",
       "      <td>-0.043455</td>\n",
       "      <td>-0.529238</td>\n",
       "      <td>-0.275882</td>\n",
       "    </tr>\n",
       "    <tr>\n",
       "      <th>4</th>\n",
       "      <td>2017</td>\n",
       "      <td>Financial</td>\n",
       "      <td>-0.264471</td>\n",
       "      <td>-0.588280</td>\n",
       "      <td>-0.429539</td>\n",
       "      <td>-0.306397</td>\n",
       "      <td>-0.409093</td>\n",
       "      <td>-0.318044</td>\n",
       "      <td>-0.263806</td>\n",
       "      <td>-0.355332</td>\n",
       "      <td>-0.323152</td>\n",
       "    </tr>\n",
       "    <tr>\n",
       "      <th>5</th>\n",
       "      <td>2017</td>\n",
       "      <td>Calendar</td>\n",
       "      <td>0.531722</td>\n",
       "      <td>0.015083</td>\n",
       "      <td>-0.431014</td>\n",
       "      <td>0.506445</td>\n",
       "      <td>0.989313</td>\n",
       "      <td>0.506980</td>\n",
       "      <td>0.698624</td>\n",
       "      <td>0.726492</td>\n",
       "      <td>0.573053</td>\n",
       "    </tr>\n",
       "  </tbody>\n",
       "</table>\n",
       "</div>"
      ],
      "text/plain": [
       "   Year Type_of_yr    Income  Other_Income  Overtime  Total_Income  \\\n",
       "0  2015  Financial  0.979272     -0.476483 -0.234449      0.921924   \n",
       "1  2015   Calendar -1.259481     -0.588280 -0.175594     -1.270526   \n",
       "3  2018  Financial -0.170114      0.091140 -0.431752     -0.175099   \n",
       "4  2017  Financial -0.264471     -0.588280 -0.429539     -0.306397   \n",
       "5  2017   Calendar  0.531722      0.015083 -0.431014      0.506445   \n",
       "\n",
       "   Health_Insurance  Retirement  Other_Benefits  Total_Benefits  \\\n",
       "0          0.911621    1.173963        1.141794        1.156388   \n",
       "1         -1.504303   -1.186975       -1.269380       -1.374560   \n",
       "3         -1.592864   -0.037175       -0.043455       -0.529238   \n",
       "4         -0.409093   -0.318044       -0.263806       -0.355332   \n",
       "5          0.989313    0.506980        0.698624        0.726492   \n",
       "\n",
       "   Total_Reimbursement  \n",
       "0             0.996728  \n",
       "1            -1.312351  \n",
       "3            -0.275882  \n",
       "4            -0.323152  \n",
       "5             0.573053  "
      ]
     },
     "execution_count": 13,
     "metadata": {},
     "output_type": "execute_result"
    }
   ],
   "source": [
    "# scale the independent numeric and target variable\n",
    "df_reimb.iloc[:, 2:11] = df_reimb.iloc[:, 2:11].apply(lambda rec: (rec - rec.mean()) / rec.std())\n",
    "\n",
    "df_reimb.head()"
   ]
  },
  {
   "cell_type": "markdown",
   "metadata": {},
   "source": [
    "<a id=\"def\"></a>\n",
    "# 3. What is Regression Analysis?"
   ]
  },
  {
   "cell_type": "markdown",
   "metadata": {},
   "source": [
    "#### Dependent variable (y): It is the variable that we predict. It is also known as 'Target' or 'Response' variable. For regression, the dependent variable should be numeric.\n",
    "\n",
    "#### Independent variable (X): It is the variable used in predicting the values of a target variable. There can be one or more independent variables in a dataset. It is also known as 'predictors' or 'features'. These variables can be numerical as well as categorical."
   ]
  },
  {
   "cell_type": "markdown",
   "metadata": {},
   "source": [
    "Regression analysis is used to understand the effect of a set of independent variables on the dependent variable. The variables that affect the dependent variable the most can also be identified. Linear regression is one of the methods in regression analysis, which fits the line to predict the values of the dependent variable."
   ]
  },
  {
   "cell_type": "markdown",
   "metadata": {},
   "source": [
    "<a id=\"Bivariate\"></a>\n",
    "# 4. Bivariate Regression"
   ]
  },
  {
   "cell_type": "markdown",
   "metadata": {},
   "source": [
    "It determines the linear relationship between the dependent (y) and a independent (X) variable. It is also known as, `Simple Linear Regression (SLR)`. The mathematical equation is given as:<br>\n",
    "<p style='text-indent:30em'> <strong> y = β<sub>0</sub> + β<sub>1</sub>.x + ε </strong> </p>\n",
    "                                                        \n",
    "where, \n",
    "\n",
    "y   =  Dependent variable <br>\n",
    "x   =  Independent variable<br>\n",
    "β<sub>0</sub>  =  Y-intercept (value of y when x = 0)<br>\n",
    "β<sub>1</sub>  =  Beta coefficient of x <br>\n",
    "ε   =  Random error component<br>"
   ]
  },
  {
   "cell_type": "markdown",
   "metadata": {},
   "source": [
    "**For bivariate regression, consider 'Total_Reimbursement' as target variable and 'Total_Benefits' as an independent variable from 'df_reimb'.**\n",
    "\n",
    "The test hypothesis for SLR is given as:\n",
    "<p style='text-indent:25em'> <strong> H<sub>o</sub>: Slope (beta coefficient of x) is equal to zero</strong> </p>\n",
    "<p style='text-indent:25em'> <strong> H<sub>1</sub>: Slope (beta coefficient of x) is not equal to zero</strong> </p>"
   ]
  },
  {
   "cell_type": "markdown",
   "metadata": {},
   "source": [
    "<a id=\"lsm\"></a>\n",
    "## 4.1 Ordinary Least Square Method (OLS)"
   ]
  },
  {
   "cell_type": "markdown",
   "metadata": {},
   "source": [
    "The ordinary least square method aims to minimize the sum of the squared difference between the actual and the predicted values. Squaring ensures that each term is positive. It penalizes the model for the negative error terms. This approach calculates the β<sub>0</sub> and β<sub>1</sub> values that minimize the sum of squared differences along the line of prediction."
   ]
  },
  {
   "cell_type": "markdown",
   "metadata": {},
   "source": [
    "#### Split the data into training and test sets"
   ]
  },
  {
   "cell_type": "code",
   "execution_count": 14,
   "metadata": {},
   "outputs": [
    {
     "name": "stdout",
     "output_type": "stream",
     "text": [
      "X_train_slr (26320,)\n",
      "y_train_slr (26320,)\n",
      "X_test_slr (11281,)\n",
      "y_test_slr (11281,)\n"
     ]
    }
   ],
   "source": [
    "# split the independent and target variable into train subset and test subset\n",
    "# set 'random_state' to generate the same dataset each time you run the code \n",
    "# 'test_size' returns the proportion of data to be included in the testing set\n",
    "X_train_slr, X_test_slr, y_train_slr, y_test_slr = train_test_split(df_reimb['Total_Benefits'], df_reimb['Total_Reimbursement'], \n",
    "                                                    random_state=1, test_size = 0.3)\n",
    "\n",
    "# check the dimensions of the train & test subset using 'shape'\n",
    "# print dimension of train set\n",
    "print('X_train_slr', X_train_slr.shape)\n",
    "print('y_train_slr', y_train_slr.shape)\n",
    "\n",
    "# print dimension of test set\n",
    "print('X_test_slr', X_test_slr.shape)\n",
    "print('y_test_slr', y_test_slr.shape)"
   ]
  },
  {
   "cell_type": "markdown",
   "metadata": {},
   "source": [
    "**Build the simple linear regression model using the OLS method.**"
   ]
  },
  {
   "cell_type": "code",
   "execution_count": 15,
   "metadata": {},
   "outputs": [
    {
     "data": {
      "text/html": [
       "<div>\n",
       "<style scoped>\n",
       "    .dataframe tbody tr th:only-of-type {\n",
       "        vertical-align: middle;\n",
       "    }\n",
       "\n",
       "    .dataframe tbody tr th {\n",
       "        vertical-align: top;\n",
       "    }\n",
       "\n",
       "    .dataframe thead th {\n",
       "        text-align: right;\n",
       "    }\n",
       "</style>\n",
       "<table border=\"1\" class=\"dataframe\">\n",
       "  <thead>\n",
       "    <tr style=\"text-align: right;\">\n",
       "      <th></th>\n",
       "      <th>intercept</th>\n",
       "      <th>Total_Benefits</th>\n",
       "    </tr>\n",
       "  </thead>\n",
       "  <tbody>\n",
       "    <tr>\n",
       "      <th>32437</th>\n",
       "      <td>1.000000</td>\n",
       "      <td>-0.924063</td>\n",
       "    </tr>\n",
       "    <tr>\n",
       "      <th>27382</th>\n",
       "      <td>1.000000</td>\n",
       "      <td>0.897157</td>\n",
       "    </tr>\n",
       "    <tr>\n",
       "      <th>26627</th>\n",
       "      <td>1.000000</td>\n",
       "      <td>-1.355352</td>\n",
       "    </tr>\n",
       "    <tr>\n",
       "      <th>24073</th>\n",
       "      <td>1.000000</td>\n",
       "      <td>0.797800</td>\n",
       "    </tr>\n",
       "    <tr>\n",
       "      <th>49495</th>\n",
       "      <td>1.000000</td>\n",
       "      <td>1.041847</td>\n",
       "    </tr>\n",
       "  </tbody>\n",
       "</table>\n",
       "</div>"
      ],
      "text/plain": [
       "       intercept  Total_Benefits\n",
       "32437   1.000000       -0.924063\n",
       "27382   1.000000        0.897157\n",
       "26627   1.000000       -1.355352\n",
       "24073   1.000000        0.797800\n",
       "49495   1.000000        1.041847"
      ]
     },
     "execution_count": 15,
     "metadata": {},
     "output_type": "execute_result"
    }
   ],
   "source": [
    "# convert the X_train to DataFrame\n",
    "X_train_slr = pd.DataFrame(X_train_slr)\n",
    "\n",
    "# insert a column of intercept to 'X_train_slr'\n",
    "# create an array of ones with length equal to the total number of observations\n",
    "c = np.ones(X_train_slr.shape[0])\n",
    "\n",
    "# A design matrix is a matrix of observations of independent variables whose first column is of ones\n",
    "# If there are 'm' observations and 'n' variables, then the dimension of a design matrix is m * (n+1) \n",
    "\n",
    "# add the intercept \n",
    "# pass location index of intercept to the parameter 'loc'\n",
    "# pass column name to the parameter 'column'\n",
    "# pass the column value to the parameter 'value'\n",
    "X_train_slr.insert(loc = 0, column = 'intercept', value = c)\n",
    "\n",
    "# display the first five rows of design matrix\n",
    "X_train_slr.head()"
   ]
  },
  {
   "cell_type": "code",
   "execution_count": 16,
   "metadata": {
    "scrolled": false
   },
   "outputs": [
    {
     "name": "stdout",
     "output_type": "stream",
     "text": [
      "                             OLS Regression Results                            \n",
      "===============================================================================\n",
      "Dep. Variable:     Total_Reimbursement   R-squared:                       0.949\n",
      "Model:                             OLS   Adj. R-squared:                  0.949\n",
      "Method:                  Least Squares   F-statistic:                 4.848e+05\n",
      "Date:                 Fri, 16 Oct 2020   Prob (F-statistic):               0.00\n",
      "Time:                         15:58:57   Log-Likelihood:                 1661.7\n",
      "No. Observations:                26320   AIC:                            -3319.\n",
      "Df Residuals:                    26318   BIC:                            -3303.\n",
      "Df Model:                            1                                         \n",
      "Covariance Type:             nonrobust                                         \n",
      "==================================================================================\n",
      "                     coef    std err          t      P>|t|      [0.025      0.975]\n",
      "----------------------------------------------------------------------------------\n",
      "intercept       1.466e-05      0.001      0.010      0.992      -0.003       0.003\n",
      "Total_Benefits     0.9744      0.001    696.263      0.000       0.972       0.977\n",
      "==============================================================================\n",
      "Omnibus:                    12064.055   Durbin-Watson:                   2.006\n",
      "Prob(Omnibus):                  0.000   Jarque-Bera (JB):           117016.449\n",
      "Skew:                           1.965   Prob(JB):                         0.00\n",
      "Kurtosis:                      12.553   Cond. No.                         1.00\n",
      "==============================================================================\n",
      "\n",
      "Warnings:\n",
      "[1] Standard Errors assume that the covariance matrix of the errors is correctly specified.\n"
     ]
    }
   ],
   "source": [
    "# building a model on the train dataset with an intercept\n",
    "# fit() is used to fit the OLS model\n",
    "SLR_model = sm.OLS(y_train_slr, X_train_slr).fit()\n",
    "\n",
    "# print the summary output\n",
    "print(SLR_model.summary())"
   ]
  },
  {
   "cell_type": "markdown",
   "metadata": {},
   "source": [
    "**Interpretation:** The R-squared value obtained from this model is 94.9 which means that the above model explains 94.9% of the variation in the Total_Reimbursement. \n",
    "\n",
    "The `Durbin-Watson` test is used to check the autocorrelation between the residuals.\n",
    "\n",
    "If the Durbin-Watson test statistic is near to 2: no autocorrelation<br>\n",
    "If the Durbin-Watson test statistic is between 0 and 2: positive autocorrelation <br>\n",
    "If the Durbin-Watson test statistic is between 2 and 4: negative autocorrelation\n",
    "\n",
    "The summary output shows that the value of the test statistic is close to 2 (= 2.006) which means there is no autocorrelation.\n",
    "\n",
    "The `Jarque-Bera` test is used to check the normality of the residuals. Here, the p-value of the test is less than 0.05; that implies the residuals are not normally distributed.\n",
    "\n",
    "The 'Cond. No' (= 1) represents the `Condition Number (CN)` which is used to check the multicollinearity. \n",
    "\n",
    "If CN < 100: no multicollinearity<br>\n",
    "If CN is between 100 and 1000: moderate multicollinearity<br>\n",
    "If CN > 1000: severe multicollinearity\n",
    "\n",
    "Thus, it can be seen that there is no multicollinearity in the data."
   ]
  },
  {
   "cell_type": "markdown",
   "metadata": {},
   "source": [
    "**Calculate the predicted Total_Reimbursement for train data using the above model.**"
   ]
  },
  {
   "cell_type": "markdown",
   "metadata": {},
   "source": [
    "Use the above dataframe to predict the Total_Reimbursement."
   ]
  },
  {
   "cell_type": "code",
   "execution_count": 17,
   "metadata": {},
   "outputs": [
    {
     "data": {
      "text/plain": [
       "32437   -0.900434\n",
       "27382    0.874244\n",
       "26627   -1.320701\n",
       "24073    0.777427\n",
       "49495    1.015237\n",
       "dtype: float64"
      ]
     },
     "execution_count": 17,
     "metadata": {},
     "output_type": "execute_result"
    }
   ],
   "source": [
    "# predict the Total_Reimbursement using 'predict()' on training data\n",
    "y_train_slr_pred = SLR_model.predict(X_train_slr)\n",
    "\n",
    "# display the first five predicted values \n",
    "y_train_slr_pred.head()"
   ]
  },
  {
   "cell_type": "markdown",
   "metadata": {},
   "source": [
    "Now we have actual and predicted values of the target variable for training dataset (y_train_slr and y_train_pred respectively)"
   ]
  },
  {
   "cell_type": "markdown",
   "metadata": {},
   "source": [
    "<a id=\"mv\"></a>\n",
    "## 4.2 Measures of Variation"
   ]
  },
  {
   "cell_type": "markdown",
   "metadata": {},
   "source": [
    "**Residual:** It is calculated as the difference between the actual and predicted value of the dependent variable."
   ]
  },
  {
   "cell_type": "markdown",
   "metadata": {},
   "source": [
    "<a id=\"ssr\"></a>\n",
    "### 4.2.1  Sum of Squared Residuals (SSR)"
   ]
  },
  {
   "cell_type": "markdown",
   "metadata": {},
   "source": [
    "It is defined as the sum of the squared difference between the predicted value and the mean of the dependent variable."
   ]
  },
  {
   "cell_type": "code",
   "execution_count": 18,
   "metadata": {},
   "outputs": [
    {
     "data": {
      "text/plain": [
       "25018.867402253072"
      ]
     },
     "execution_count": 18,
     "metadata": {},
     "output_type": "execute_result"
    }
   ],
   "source": [
    "# calculate the SSR on train dataset\n",
    "ssr = np.sum((y_train_slr_pred - y_train_slr.mean())**2)\n",
    "ssr"
   ]
  },
  {
   "cell_type": "markdown",
   "metadata": {},
   "source": [
    "<a id=\"sse\"></a>\n",
    "### 4.2.2 Sum of Squared Error (SSE)"
   ]
  },
  {
   "cell_type": "markdown",
   "metadata": {},
   "source": [
    "It is defined as the sum of the squared difference between the actual value and the predicted value."
   ]
  },
  {
   "cell_type": "code",
   "execution_count": 19,
   "metadata": {},
   "outputs": [
    {
     "data": {
      "text/plain": [
       "1358.230840822024"
      ]
     },
     "execution_count": 19,
     "metadata": {},
     "output_type": "execute_result"
    }
   ],
   "source": [
    "# calculate the SSE on train dataset\n",
    "sse = np.sum((y_train_slr - y_train_slr_pred)**2)\n",
    "sse"
   ]
  },
  {
   "cell_type": "markdown",
   "metadata": {},
   "source": [
    "<a id=\"sst\"></a>\n",
    "### 4.2.3  Sum of Squared Total (SST)"
   ]
  },
  {
   "cell_type": "markdown",
   "metadata": {},
   "source": [
    "It is the sum of the squared difference between the actual value and the mean of the dependent variable."
   ]
  },
  {
   "cell_type": "code",
   "execution_count": 20,
   "metadata": {},
   "outputs": [
    {
     "data": {
      "text/plain": [
       "26377.09824307509"
      ]
     },
     "execution_count": 20,
     "metadata": {},
     "output_type": "execute_result"
    }
   ],
   "source": [
    "# calculate the SST on train dataset\n",
    "sst = np.sum((y_train_slr - y_train_slr.mean())**2)\n",
    "sst"
   ]
  },
  {
   "cell_type": "code",
   "execution_count": 21,
   "metadata": {},
   "outputs": [
    {
     "data": {
      "text/plain": [
       "26377.098243075096"
      ]
     },
     "execution_count": 21,
     "metadata": {},
     "output_type": "execute_result"
    }
   ],
   "source": [
    "# add the values of SSE and SSR\n",
    "sse + ssr"
   ]
  },
  {
   "cell_type": "markdown",
   "metadata": {},
   "source": [
    "**Interpretation:** From the abve putput, we can verify that SST (Total variation) is the sum of SSR and SSE."
   ]
  },
  {
   "cell_type": "markdown",
   "metadata": {},
   "source": [
    "<a id=\"r2\"></a>\n",
    "### 4.2.4 Coefficient of Determination (R-Squared)"
   ]
  },
  {
   "cell_type": "markdown",
   "metadata": {},
   "source": [
    "The coefficient of determination explains the percentage of variation in the dependent variable that the independent variables explain collectively."
   ]
  },
  {
   "cell_type": "code",
   "execution_count": 22,
   "metadata": {},
   "outputs": [
    {
     "data": {
      "text/plain": [
       "0.9485071925537296"
      ]
     },
     "execution_count": 22,
     "metadata": {},
     "output_type": "execute_result"
    }
   ],
   "source": [
    "# calculate R-Squared on train dataset\n",
    "# use 'rsquared' method from statsmodel\n",
    "r_sq = SLR_model.rsquared\n",
    "\n",
    "# print the R-squared value\n",
    "r_sq"
   ]
  },
  {
   "cell_type": "markdown",
   "metadata": {},
   "source": [
    "Now, we can also calculate the R-squared value using the formula (SSR/SST)."
   ]
  },
  {
   "cell_type": "code",
   "execution_count": 23,
   "metadata": {
    "scrolled": true
   },
   "outputs": [
    {
     "data": {
      "text/plain": [
       "0.9485071925537298"
      ]
     },
     "execution_count": 23,
     "metadata": {},
     "output_type": "execute_result"
    }
   ],
   "source": [
    "# calculate R-Squared on train dataset using the formula\n",
    "r_sq = ssr/sst\n",
    "\n",
    "# print the R-squared value\n",
    "r_sq"
   ]
  },
  {
   "cell_type": "markdown",
   "metadata": {},
   "source": [
    "**Interpretation:** From the above output we can conclude that our model explains 94.85% variation in the Total_Reimbursement. We can also obtain this value from the summary of the model."
   ]
  },
  {
   "cell_type": "markdown",
   "metadata": {},
   "source": [
    "<a id=\"see\"></a>\n",
    "### 4.2.5 Standard Error of Estimate (SEE)"
   ]
  },
  {
   "cell_type": "markdown",
   "metadata": {},
   "source": [
    "The SEE is the measure of the variability of actual values around the prediction line. Smaller the value of SEE better is the model."
   ]
  },
  {
   "cell_type": "code",
   "execution_count": 24,
   "metadata": {},
   "outputs": [
    {
     "data": {
      "text/plain": [
       "0.22717490363713624"
      ]
     },
     "execution_count": 24,
     "metadata": {},
     "output_type": "execute_result"
    }
   ],
   "source": [
    "# compute SEE using the below formula \n",
    "# see =  np.sqrt(sse/(len(train_data) - k))    \n",
    "\n",
    "# for SLR take k = 2, as there are two coefficients (parameters) in the model\n",
    "see = np.sqrt(sse/(len(X_train_slr) - 2))    \n",
    "see"
   ]
  },
  {
   "cell_type": "markdown",
   "metadata": {},
   "source": [
    "Let us visualize the variability around the predicted line using regression plot."
   ]
  },
  {
   "cell_type": "code",
   "execution_count": 25,
   "metadata": {
    "scrolled": false
   },
   "outputs": [
    {
     "data": {
      "image/png": "[encoded data removed]",
      "text/plain": [
       "<Figure size 1080x576 with 1 Axes>"
      ]
     },
     "metadata": {
      "needs_background": "light"
     },
     "output_type": "display_data"
    }
   ],
   "source": [
    "# set the plot size using figure()\n",
    "# pass width and height in inches to 'figsize' \n",
    "plt.figure(figsize = (15,8))\n",
    "\n",
    "# plot a regression plot\n",
    "# independent variable on x-axis and dependent variable on y-axis\n",
    "sns.regplot(x = X_train_slr['Total_Benefits'], y = y_train_slr)\n",
    "\n",
    "# add axes and plot labels\n",
    "# set text size using 'fontsize'\n",
    "plt.title('Variability Around the Predicted Line', fontsize = 15)\n",
    "plt.xlabel('Total_Benefits', fontsize = 15)\n",
    "plt.ylabel('Total_Reimbursement', fontsize = 15)\n",
    "\n",
    "# display the plot\n",
    "plt.show()"
   ]
  },
  {
   "cell_type": "markdown",
   "metadata": {},
   "source": [
    "**Interpretation:** The blue line in the plot, indicates the regression line for the data. We can observe that most of the data points lie on (or near) the line. Also, some of the points are away from the line, which concludes the variation of the data to the fitted line."
   ]
  },
  {
   "cell_type": "markdown",
   "metadata": {},
   "source": [
    "<a id=\"inf\"></a>\n",
    "## 4.3 Inferences about Slope and Intercept"
   ]
  },
  {
   "cell_type": "markdown",
   "metadata": {},
   "source": [
    "Let us print the summary of the regression model (built in section 4.1)."
   ]
  },
  {
   "cell_type": "code",
   "execution_count": 26,
   "metadata": {
    "scrolled": false
   },
   "outputs": [
    {
     "name": "stdout",
     "output_type": "stream",
     "text": [
      "                             OLS Regression Results                            \n",
      "===============================================================================\n",
      "Dep. Variable:     Total_Reimbursement   R-squared:                       0.949\n",
      "Model:                             OLS   Adj. R-squared:                  0.949\n",
      "Method:                  Least Squares   F-statistic:                 4.848e+05\n",
      "Date:                 Fri, 16 Oct 2020   Prob (F-statistic):               0.00\n",
      "Time:                         15:58:58   Log-Likelihood:                 1661.7\n",
      "No. Observations:                26320   AIC:                            -3319.\n",
      "Df Residuals:                    26318   BIC:                            -3303.\n",
      "Df Model:                            1                                         \n",
      "Covariance Type:             nonrobust                                         \n",
      "==================================================================================\n",
      "                     coef    std err          t      P>|t|      [0.025      0.975]\n",
      "----------------------------------------------------------------------------------\n",
      "intercept       1.466e-05      0.001      0.010      0.992      -0.003       0.003\n",
      "Total_Benefits     0.9744      0.001    696.263      0.000       0.972       0.977\n",
      "==============================================================================\n",
      "Omnibus:                    12064.055   Durbin-Watson:                   2.006\n",
      "Prob(Omnibus):                  0.000   Jarque-Bera (JB):           117016.449\n",
      "Skew:                           1.965   Prob(JB):                         0.00\n",
      "Kurtosis:                      12.553   Cond. No.                         1.00\n",
      "==============================================================================\n",
      "\n",
      "Warnings:\n",
      "[1] Standard Errors assume that the covariance matrix of the errors is correctly specified.\n"
     ]
    }
   ],
   "source": [
    "# print the model summary\n",
    "print(SLR_model.summary())"
   ]
  },
  {
   "cell_type": "markdown",
   "metadata": {},
   "source": [
    "Now, let us make some inferences about the output given above."
   ]
  },
  {
   "cell_type": "markdown",
   "metadata": {},
   "source": [
    "<a id=\"inter\"></a>\n",
    "### 4.3.1 Interpretation of Slope and Intercept"
   ]
  },
  {
   "cell_type": "markdown",
   "metadata": {},
   "source": [
    "The output of the regression model returns the value of slope (β<sub>1</sub>) and Intercept (β<sub>0</sub>). \n",
    "\n",
    "**Intercept (β<sub>0</sub>) = 1.466e-05**, indicates that if the Total_Benefits is zero, then the average Total_Reimbursement is 1.466e-05 (i.e. practically zero). <br>\n",
    "\n",
    "**The slope of 'Total_Benefits' (β<sub>1</sub>) = 0.9744**, indicates that by increasing the Total_Benefits percentage by 1%, the average Total_Reimbursement increases by 0.9744.\n",
    "\n",
    "\n",
    "Thus, the equation of the line given by the model is:\n",
    "<p style='text-indent:25em'> <strong> Total_Reimbursement = 1.466e-05 + 0.9744*(Total_Benefits) </strong>  </p>"
   ]
  },
  {
   "cell_type": "markdown",
   "metadata": {},
   "source": [
    "<a id=\"t_test\"></a>\n",
    "### 4.3.2 The t-test for Slope and Intercept"
   ]
  },
  {
   "cell_type": "markdown",
   "metadata": {},
   "source": [
    "The coefficient of regression captures the presence of a linear relationship between the independent and dependent variables. If the coefficient value is zero, we can infer that there is no linear relationship between the two variables which is statistically important. It is calculated as:\n",
    "<p style='text-indent:28em'> <strong> t_value = coefficient / Standard_error </strong>  </p>\n",
    "\n",
    "The test hypothesis for the t-test is given as:\n",
    "<p style='text-indent:35em'> <strong> H<sub>o</sub>: β<sub>1</sub> = 0 </strong> </p>\n",
    "<p style='text-indent:35em'> <strong> H<sub>1</sub>: β<sub>1</sub> ≠ 0 </strong> </p>\n",
    "                                    \n",
    "Now, let us see how to calculate the t_test value for slope and intercept."
   ]
  },
  {
   "cell_type": "code",
   "execution_count": 27,
   "metadata": {
    "scrolled": true
   },
   "outputs": [
    {
     "data": {
      "text/plain": [
       "0.010469086133414173"
      ]
     },
     "execution_count": 27,
     "metadata": {},
     "output_type": "execute_result"
    }
   ],
   "source": [
    "# perform t_test for intercept\n",
    "# 'params[0]' returns the value of intercept \n",
    "# 'bse[0]' returns the standard error of intercept\n",
    "t_intercept = SLR_model.params[0] / SLR_model.bse[0]\n",
    "\n",
    "# print the value of t-statistic\n",
    "t_intercept"
   ]
  },
  {
   "cell_type": "code",
   "execution_count": 28,
   "metadata": {},
   "outputs": [
    {
     "data": {
      "text/plain": [
       "696.2632455780573"
      ]
     },
     "execution_count": 28,
     "metadata": {},
     "output_type": "execute_result"
    }
   ],
   "source": [
    "# t_test for slope\n",
    "# 'params[1]' returns the value of slope\n",
    "# 'bse[1]' returns the standard error of slope\n",
    "t_slope = SLR_model.params[1] / SLR_model.bse[1]\n",
    "\n",
    "# print the value of t-statistic\n",
    "t_slope"
   ]
  },
  {
   "cell_type": "markdown",
   "metadata": {},
   "source": [
    "Now, let us see how to calculate the p-value associated with t_test value for slope and intercept."
   ]
  },
  {
   "cell_type": "code",
   "execution_count": 29,
   "metadata": {
    "scrolled": true
   },
   "outputs": [
    {
     "data": {
      "text/plain": [
       "0.9916490343691743"
      ]
     },
     "execution_count": 29,
     "metadata": {},
     "output_type": "execute_result"
    }
   ],
   "source": [
    "# calculate p-value for intercept\n",
    "# use 'sf' (Survival function) from t-distribution to calculate the corresponding p-value\n",
    "\n",
    "# pass degrees of freedom and t-statistic value for intercept\n",
    "# degrees of freedom = n - 1 = 1043 - 1 = 1042\n",
    "pval = stats.t.sf(np.abs(t_intercept), 1042)*2 \n",
    "pval"
   ]
  },
  {
   "cell_type": "code",
   "execution_count": 30,
   "metadata": {},
   "outputs": [
    {
     "data": {
      "text/plain": [
       "0.0"
      ]
     },
     "execution_count": 30,
     "metadata": {},
     "output_type": "execute_result"
    }
   ],
   "source": [
    "# calculate p-value for slope\n",
    "# use 'sf' (Survival function) from t-distribution to calculate the corresponding p-value\n",
    "\n",
    "# pass degrees of freedom and t-statistic value for slope\n",
    "# degrees of freedom = n - 1 = 1043 - 1 = 1042\n",
    "pval = stats.t.sf(np.abs(t_slope), 1042)*2 \n",
    "pval"
   ]
  },
  {
   "cell_type": "markdown",
   "metadata": {},
   "source": [
    "**Interpretation:** The 'P > |t|' in the model summary indicates the p-value for the corresponding t-test. In our case, the p-value for the slope is zero i.e. p-value < 0.05 (with 5% level of significance). Thus, we can say that the slope is significant for the target variable.<br>\n",
    "But, the p-value for the intercept is greater than 0.05 (with 5% level of significance). Thus, we can say that the intercept is insignificant for the target variable."
   ]
  },
  {
   "cell_type": "markdown",
   "metadata": {},
   "source": [
    "<a id=\"ci\"></a>\n",
    "### 4.3.3 Confidence Interval for Slope and Intercept"
   ]
  },
  {
   "cell_type": "markdown",
   "metadata": {},
   "source": [
    "The 95% confidence interval for the variable implies that the value for the variable will be between the given interval for 95% of the cases. We can calculate the confidence interval as:\n",
    "\n",
    "<p style='text-indent:28em'> <strong> CI = coefficient ± t_table_value*Standard_error </strong>  </p>"
   ]
  },
  {
   "cell_type": "code",
   "execution_count": 31,
   "metadata": {
    "scrolled": false
   },
   "outputs": [
    {
     "name": "stdout",
     "output_type": "stream",
     "text": [
      "95% confidence interval: (-0.0027299460007735397, 0.002759265507993479)\n"
     ]
    }
   ],
   "source": [
    "# CI for intercept\n",
    "# calculate the 95% confidence interval\n",
    "# pass the 'n-1' degrees of freedom to the parameter, 'df' \n",
    "# pass the intercept coefficient to the parameter, 'loc'\n",
    "# pass the standard error of intercept to the parameter, 'scale'\n",
    "interval = stats.t.interval(0.95, df = df_reimb.shape[0]-1, loc = SLR_model.params[0], scale = SLR_model.bse[0])\n",
    "\n",
    "# print the confidence interval for intercept \n",
    "print('95% confidence interval:', interval)"
   ]
  },
  {
   "cell_type": "code",
   "execution_count": 32,
   "metadata": {
    "scrolled": false
   },
   "outputs": [
    {
     "name": "stdout",
     "output_type": "stream",
     "text": [
      "95% confidence interval: (0.9713264077791088, 0.9775631242971576)\n"
     ]
    }
   ],
   "source": [
    "# CI for slope\n",
    "# calculate the 95% confidence interval\n",
    "# pass the 'n-1' degrees of freedom to the parameter, 'df' \n",
    "# pass the slope coefficient to the parameter, 'loc'\n",
    "# pass the standard error of slope to the parameter, 'scale'\n",
    "interval = stats.t.interval(0.95, df = df_reimb.shape[1]-1, loc = SLR_model.params[1], scale = SLR_model.bse[1])\n",
    "\n",
    "# print the confidence interval for slope \n",
    "print('95% confidence interval:', interval)"
   ]
  },
  {
   "cell_type": "markdown",
   "metadata": {},
   "source": [
    "<a id=\"anova\"></a>\n",
    "### 4.3.4 ANOVA for SLR"
   ]
  },
  {
   "cell_type": "markdown",
   "metadata": {},
   "source": [
    "ANOVA (Analysis of Variance) is used to test the significance of the linear regression model. The test hypothesis for ANOVA is given as:\n",
    "<p style='text-indent:25em'> <strong> H<sub>o</sub>: β<sub>1</sub> = 0 </strong> (i.e. regression model is not significant) </p>\n",
    "<p style='text-indent:25em'> <strong> H<sub>1</sub>: β<sub>1</sub> ≠ 0 </strong> (i.e. regression model is significant) </p>"
   ]
  },
  {
   "cell_type": "markdown",
   "metadata": {},
   "source": [
    "To perform ANOVA using `anova_lm` method, we build the SLR model using `ols` method in the statsmodel library."
   ]
  },
  {
   "cell_type": "code",
   "execution_count": 33,
   "metadata": {},
   "outputs": [],
   "source": [
    "# build a SLR model using 'ols' method\n",
    "# pass the regression model to the parameter 'formula'\n",
    "# concatenate the training dataset and pass to the parameter 'data' to build the model on training dataset\n",
    "# 'axis=1' concats the data column-wise\n",
    "# 'fit()' is used to fit the model\n",
    "slr_ols = ols(formula = 'Total_Reimbursement ~ Total_Benefits', data = pd.concat([X_train_slr, y_train_slr], axis=1)).fit()\n",
    "# this model returns the same result as of model built using 'OLS' "
   ]
  },
  {
   "cell_type": "code",
   "execution_count": 34,
   "metadata": {},
   "outputs": [
    {
     "data": {
      "text/html": [
       "<div>\n",
       "<style scoped>\n",
       "    .dataframe tbody tr th:only-of-type {\n",
       "        vertical-align: middle;\n",
       "    }\n",
       "\n",
       "    .dataframe tbody tr th {\n",
       "        vertical-align: top;\n",
       "    }\n",
       "\n",
       "    .dataframe thead th {\n",
       "        text-align: right;\n",
       "    }\n",
       "</style>\n",
       "<table border=\"1\" class=\"dataframe\">\n",
       "  <thead>\n",
       "    <tr style=\"text-align: right;\">\n",
       "      <th></th>\n",
       "      <th>df</th>\n",
       "      <th>sum_sq</th>\n",
       "      <th>mean_sq</th>\n",
       "      <th>F</th>\n",
       "      <th>PR(&gt;F)</th>\n",
       "    </tr>\n",
       "  </thead>\n",
       "  <tbody>\n",
       "    <tr>\n",
       "      <th>Total_Benefits</th>\n",
       "      <td>1.000000</td>\n",
       "      <td>25018.867402</td>\n",
       "      <td>25018.867402</td>\n",
       "      <td>484782.507143</td>\n",
       "      <td>0.000000</td>\n",
       "    </tr>\n",
       "    <tr>\n",
       "      <th>Residual</th>\n",
       "      <td>26318.000000</td>\n",
       "      <td>1358.230841</td>\n",
       "      <td>0.051608</td>\n",
       "      <td>nan</td>\n",
       "      <td>nan</td>\n",
       "    </tr>\n",
       "  </tbody>\n",
       "</table>\n",
       "</div>"
      ],
      "text/plain": [
       "                         df       sum_sq      mean_sq             F   PR(>F)\n",
       "Total_Benefits     1.000000 25018.867402 25018.867402 484782.507143 0.000000\n",
       "Residual       26318.000000  1358.230841     0.051608           nan      nan"
      ]
     },
     "execution_count": 34,
     "metadata": {},
     "output_type": "execute_result"
    }
   ],
   "source": [
    "# perform ANOVA on the above model using 'anova_lm'\n",
    "# pass the linear model to 'anova_lm'\n",
    "anova_slr = anova_lm(slr_ols)\n",
    "\n",
    "# print the ANOVA results\n",
    "anova_slr"
   ]
  },
  {
   "cell_type": "markdown",
   "metadata": {},
   "source": [
    "**Interpretation:** The above ANOVA result returns the F-statistic and corresponding p-value for the linear model. As, the p-value is less than 0.05, we accept the alternate hypothesis (i.e. the regression model is significant). We can also obtain these values from the summary of the model."
   ]
  },
  {
   "cell_type": "markdown",
   "metadata": {},
   "source": [
    "<a id=\"MLR\"></a>\n",
    "# 5. Multiple Linear Regression (MLR)"
   ]
  },
  {
   "cell_type": "markdown",
   "metadata": {},
   "source": [
    "It is used to study the linear relationship between a dependent (target) variable and two or more independent variables. We can use this technique to study the effect of multiple variables on the target variable."
   ]
  },
  {
   "cell_type": "markdown",
   "metadata": {},
   "source": [
    "<a id=\"before\"></a>\n",
    "## 5.1 Assumptions Before MLR Model"
   ]
  },
  {
   "cell_type": "markdown",
   "metadata": {},
   "source": [
    "There are several assumptions of linear regression. We can check two of them before building the regression model. Let us check the following assumptions in this section:<br>\n",
    "1. Assumption on Dependent Variable<br>\n",
    "2. No or little multicollinearity<br>"
   ]
  },
  {
   "cell_type": "markdown",
   "metadata": {},
   "source": [
    "Let us create the dataframes for independent and target variable to check the assumptions of linear regression."
   ]
  },
  {
   "cell_type": "code",
   "execution_count": 35,
   "metadata": {},
   "outputs": [],
   "source": [
    "# create dataframe of features by dropping the target variable\n",
    "# 'axis = 1' drops the corresponding column(s)\n",
    "df_feature = df_reimb.drop('Total_Reimbursement', axis = 1)\n",
    "\n",
    "# create dataframe of target variable\n",
    "df_target = df_reimb['Total_Reimbursement']"
   ]
  },
  {
   "cell_type": "markdown",
   "metadata": {},
   "source": [
    "<a id=\"dep_num\"></a>\n",
    "### 5.1.1 Assumption on Dependent Variable"
   ]
  },
  {
   "cell_type": "markdown",
   "metadata": {},
   "source": [
    "The assumption for linear regression is that the dependent (target) variable should be numeric. In our dataset, the variable 'Total_Reimbursement' is the target/dependent variable.  "
   ]
  },
  {
   "cell_type": "code",
   "execution_count": 36,
   "metadata": {},
   "outputs": [
    {
     "data": {
      "text/plain": [
       "dtype('float64')"
      ]
     },
     "execution_count": 36,
     "metadata": {},
     "output_type": "execute_result"
    }
   ],
   "source": [
    "# check the data type of dependent variable\n",
    "df_target.dtype"
   ]
  },
  {
   "cell_type": "markdown",
   "metadata": {},
   "source": [
    "**Interpretation:** The output shows that the data type of target variable is 'float64'. i.e. the dependent variable is numeric."
   ]
  },
  {
   "cell_type": "markdown",
   "metadata": {},
   "source": [
    "<a id=\"no_multi\"></a>\n",
    "### 5.1.2 No or Little Multicollinearity"
   ]
  },
  {
   "cell_type": "markdown",
   "metadata": {},
   "source": [
    "Whenever there are a large number of independent variables present in the dataset, there is a possibility that such independent variables will be strongly correlated. The presence of a strong correlation between the independent variables is called multicollinearity.\n",
    "\n",
    "The presence of multicollinearity can destabilize the model. Thus, the existence of multicollinearity must be detected and corrected actions should be taken.\n",
    "\n",
    "If we use dummy variables to encode a categorical variable and do not omit the parent column, then this results in a strong correlation between the dummy variables and the parent column."
   ]
  },
  {
   "cell_type": "markdown",
   "metadata": {},
   "source": [
    "<a id=\"corr\"></a>\n",
    "#### 5.1.2.1 Correlation Matrix"
   ]
  },
  {
   "cell_type": "markdown",
   "metadata": {},
   "source": [
    "Let us plot the heatmap to visualize the correlation matrix of the independent variables. The variables with a high correlation may induce multicollinearity in the data."
   ]
  },
  {
   "cell_type": "code",
   "execution_count": 37,
   "metadata": {
    "scrolled": false
   },
   "outputs": [
    {
     "data": {
      "image/png": "[encoded data removed]",
      "text/plain": [
       "<Figure size 1440x720 with 2 Axes>"
      ]
     },
     "metadata": {
      "needs_background": "light"
     },
     "output_type": "display_data"
    }
   ],
   "source": [
    "# set the plot size using figure()\n",
    "# pass width and height in inches to 'figsize' \n",
    "plt.figure(figsize = (20,10))\n",
    "\n",
    "# plot the heat map\n",
    "# corr(): give the correlation matrix\n",
    "# annot: prints the correlation values in the chart\n",
    "# annot_kws: used to set the font size of the annotation\n",
    "sns.heatmap(df_feature.corr(), annot = True, annot_kws = {\"size\": 11})\n",
    "\n",
    "# rotation = 'horizontal' rotates the y-axis labels horizontally\n",
    "# set text size using 'fontsize'\n",
    "plt.yticks(rotation = 'horizontal', fontsize = 15)\n",
    "plt.xticks(fontsize = 15)\n",
    "\n",
    "# display the plot\n",
    "plt.show()"
   ]
  },
  {
   "cell_type": "markdown",
   "metadata": {},
   "source": [
    "Identify the variables with a correlation greater than 0.8 and less than -0.8."
   ]
  },
  {
   "cell_type": "code",
   "execution_count": 38,
   "metadata": {
    "scrolled": false
   },
   "outputs": [
    {
     "data": {
      "image/png": "[encoded data removed]",
      "text/plain": [
       "<Figure size 1584x720 with 2 Axes>"
      ]
     },
     "metadata": {
      "needs_background": "light"
     },
     "output_type": "display_data"
    }
   ],
   "source": [
    "# set the plot size using figure()\n",
    "# pass width and height in inches to 'figsize' \n",
    "plt.figure(figsize = (22,10))\n",
    "\n",
    "# plot the heat map\n",
    "# corr(): give the correlation matrix\n",
    "# annot: prints the correlation values in the chart\n",
    "# annot_kws: sets the font size of the annotation\n",
    "sns.heatmap(df_feature.corr()[np.abs(df_feature.corr()) > 0.8], annot = True, annot_kws = {\"size\": 13}, cmap = 'Blues')\n",
    "\n",
    "# rotate the y-axis labels\n",
    "# set text size using 'fontsize'\n",
    "plt.yticks(rotation = 'horizontal', fontsize = 12)\n",
    "plt.xticks(fontsize = 15)\n",
    "\n",
    "# display the plot\n",
    "plt.show()"
   ]
  },
  {
   "cell_type": "markdown",
   "metadata": {},
   "source": [
    "**Interpretation:** The above heatmap, show the variables having a strong positive/negative correlation. The variables with dark shade represent the strong positive correlation."
   ]
  },
  {
   "cell_type": "markdown",
   "metadata": {},
   "source": [
    "<a id=\"vif\"></a>\n",
    "#### 5.1.2.2 Variance Inflation Factor (VIF)"
   ]
  },
  {
   "cell_type": "markdown",
   "metadata": {},
   "source": [
    "The Variance Inflation Factor (VIF) is used to detect the presence of multicollinearity between the features. The value of VIF equal to 1 indicates that no features are correlated. We calculate VIF of the numerical independent variables.   \n",
    "\n",
    "Steps to calculate VIF:<br>\n",
    "1. Regress one independent variable (say V<sub>i</sub>) on all the remaining independent variables (say V<sub>j</sub>, j ≠ i)\n",
    "2. Calculate R-squared of the regression model\n",
    "3. Calculate VIF for the variable V<sub>i</sub> using the formula:\n",
    "<p style='text-indent:29em'> <strong> VIF = 1 / (1 - R-squared)</strong>  </p><br>\n",
    "4. Repeate the steps 1 to 3 to calculate VIF of each independent variable"
   ]
  },
  {
   "cell_type": "code",
   "execution_count": 39,
   "metadata": {},
   "outputs": [
    {
     "data": {
      "text/html": [
       "<div>\n",
       "<style scoped>\n",
       "    .dataframe tbody tr th:only-of-type {\n",
       "        vertical-align: middle;\n",
       "    }\n",
       "\n",
       "    .dataframe tbody tr th {\n",
       "        vertical-align: top;\n",
       "    }\n",
       "\n",
       "    .dataframe thead th {\n",
       "        text-align: right;\n",
       "    }\n",
       "</style>\n",
       "<table border=\"1\" class=\"dataframe\">\n",
       "  <thead>\n",
       "    <tr style=\"text-align: right;\">\n",
       "      <th></th>\n",
       "      <th>Income</th>\n",
       "      <th>Other_Income</th>\n",
       "      <th>Overtime</th>\n",
       "      <th>Total_Income</th>\n",
       "      <th>Health_Insurance</th>\n",
       "      <th>Retirement</th>\n",
       "      <th>Other_Benefits</th>\n",
       "      <th>Total_Benefits</th>\n",
       "    </tr>\n",
       "  </thead>\n",
       "  <tbody>\n",
       "    <tr>\n",
       "      <th>0</th>\n",
       "      <td>0.979272</td>\n",
       "      <td>-0.476483</td>\n",
       "      <td>-0.234449</td>\n",
       "      <td>0.921924</td>\n",
       "      <td>0.911621</td>\n",
       "      <td>1.173963</td>\n",
       "      <td>1.141794</td>\n",
       "      <td>1.156388</td>\n",
       "    </tr>\n",
       "    <tr>\n",
       "      <th>1</th>\n",
       "      <td>-1.259481</td>\n",
       "      <td>-0.588280</td>\n",
       "      <td>-0.175594</td>\n",
       "      <td>-1.270526</td>\n",
       "      <td>-1.504303</td>\n",
       "      <td>-1.186975</td>\n",
       "      <td>-1.269380</td>\n",
       "      <td>-1.374560</td>\n",
       "    </tr>\n",
       "    <tr>\n",
       "      <th>3</th>\n",
       "      <td>-0.170114</td>\n",
       "      <td>0.091140</td>\n",
       "      <td>-0.431752</td>\n",
       "      <td>-0.175099</td>\n",
       "      <td>-1.592864</td>\n",
       "      <td>-0.037175</td>\n",
       "      <td>-0.043455</td>\n",
       "      <td>-0.529238</td>\n",
       "    </tr>\n",
       "    <tr>\n",
       "      <th>4</th>\n",
       "      <td>-0.264471</td>\n",
       "      <td>-0.588280</td>\n",
       "      <td>-0.429539</td>\n",
       "      <td>-0.306397</td>\n",
       "      <td>-0.409093</td>\n",
       "      <td>-0.318044</td>\n",
       "      <td>-0.263806</td>\n",
       "      <td>-0.355332</td>\n",
       "    </tr>\n",
       "    <tr>\n",
       "      <th>5</th>\n",
       "      <td>0.531722</td>\n",
       "      <td>0.015083</td>\n",
       "      <td>-0.431014</td>\n",
       "      <td>0.506445</td>\n",
       "      <td>0.989313</td>\n",
       "      <td>0.506980</td>\n",
       "      <td>0.698624</td>\n",
       "      <td>0.726492</td>\n",
       "    </tr>\n",
       "  </tbody>\n",
       "</table>\n",
       "</div>"
      ],
      "text/plain": [
       "     Income  Other_Income  Overtime  Total_Income  Health_Insurance  \\\n",
       "0  0.979272     -0.476483 -0.234449      0.921924          0.911621   \n",
       "1 -1.259481     -0.588280 -0.175594     -1.270526         -1.504303   \n",
       "3 -0.170114      0.091140 -0.431752     -0.175099         -1.592864   \n",
       "4 -0.264471     -0.588280 -0.429539     -0.306397         -0.409093   \n",
       "5  0.531722      0.015083 -0.431014      0.506445          0.989313   \n",
       "\n",
       "   Retirement  Other_Benefits  Total_Benefits  \n",
       "0    1.173963        1.141794        1.156388  \n",
       "1   -1.186975       -1.269380       -1.374560  \n",
       "3   -0.037175       -0.043455       -0.529238  \n",
       "4   -0.318044       -0.263806       -0.355332  \n",
       "5    0.506980        0.698624        0.726492  "
      ]
     },
     "execution_count": 39,
     "metadata": {},
     "output_type": "execute_result"
    }
   ],
   "source": [
    "# filter the numerical features in the dataset\n",
    "df_numeric_features_vif = df_feature.select_dtypes(include=[np.number])\n",
    "\n",
    "# display the first five observations\n",
    "df_numeric_features_vif.head()"
   ]
  },
  {
   "cell_type": "markdown",
   "metadata": {},
   "source": [
    "#### Calculate the VIF for each numeric variable."
   ]
  },
  {
   "cell_type": "code",
   "execution_count": 40,
   "metadata": {},
   "outputs": [
    {
     "data": {
      "text/html": [
       "<div>\n",
       "<style scoped>\n",
       "    .dataframe tbody tr th:only-of-type {\n",
       "        vertical-align: middle;\n",
       "    }\n",
       "\n",
       "    .dataframe tbody tr th {\n",
       "        vertical-align: top;\n",
       "    }\n",
       "\n",
       "    .dataframe thead th {\n",
       "        text-align: right;\n",
       "    }\n",
       "</style>\n",
       "<table border=\"1\" class=\"dataframe\">\n",
       "  <thead>\n",
       "    <tr style=\"text-align: right;\">\n",
       "      <th></th>\n",
       "      <th>VIF_Factor</th>\n",
       "      <th>Features</th>\n",
       "    </tr>\n",
       "  </thead>\n",
       "  <tbody>\n",
       "    <tr>\n",
       "      <th>0</th>\n",
       "      <td>30075967.183044</td>\n",
       "      <td>Income</td>\n",
       "    </tr>\n",
       "    <tr>\n",
       "      <th>1</th>\n",
       "      <td>22042451.424306</td>\n",
       "      <td>Other_Benefits</td>\n",
       "    </tr>\n",
       "    <tr>\n",
       "      <th>2</th>\n",
       "      <td>21341383.734145</td>\n",
       "      <td>Overtime</td>\n",
       "    </tr>\n",
       "    <tr>\n",
       "      <th>3</th>\n",
       "      <td>16853769.503994</td>\n",
       "      <td>Other_Income</td>\n",
       "    </tr>\n",
       "    <tr>\n",
       "      <th>4</th>\n",
       "      <td>11860118.016402</td>\n",
       "      <td>Total_Income</td>\n",
       "    </tr>\n",
       "    <tr>\n",
       "      <th>5</th>\n",
       "      <td>10313536.309979</td>\n",
       "      <td>Health_Insurance</td>\n",
       "    </tr>\n",
       "    <tr>\n",
       "      <th>6</th>\n",
       "      <td>4396100.420985</td>\n",
       "      <td>Retirement</td>\n",
       "    </tr>\n",
       "    <tr>\n",
       "      <th>7</th>\n",
       "      <td>2624112.865499</td>\n",
       "      <td>Total_Benefits</td>\n",
       "    </tr>\n",
       "  </tbody>\n",
       "</table>\n",
       "</div>"
      ],
      "text/plain": [
       "       VIF_Factor          Features\n",
       "0 30075967.183044            Income\n",
       "1 22042451.424306    Other_Benefits\n",
       "2 21341383.734145          Overtime\n",
       "3 16853769.503994      Other_Income\n",
       "4 11860118.016402      Total_Income\n",
       "5 10313536.309979  Health_Insurance\n",
       "6  4396100.420985        Retirement\n",
       "7  2624112.865499    Total_Benefits"
      ]
     },
     "execution_count": 40,
     "metadata": {},
     "output_type": "execute_result"
    }
   ],
   "source": [
    "# create an empty dataframe to store the VIF for each variable\n",
    "vif = pd.DataFrame()\n",
    "\n",
    "# calculate VIF using list comprehension \n",
    "# use for loop to access each variable \n",
    "# calculate VIF for each variable and create a column 'VIF_Factor' to store the values \n",
    "vif[\"VIF_Factor\"] = [variance_inflation_factor(df_numeric_features_vif.values, i) for i in range(df_numeric_features_vif.shape[1])]\n",
    "\n",
    "# create a column of variable names\n",
    "vif[\"Features\"] = df_numeric_features_vif.columns\n",
    "\n",
    "# sort the dataframe based on the values of VIF_Factor in descending order\n",
    "# 'ascending = False' sorts the data in descending order\n",
    "# 'reset_index' resets the index of the dataframe\n",
    "# 'drop = True' drops the previous index\n",
    "vif.sort_values('VIF_Factor', ascending = False).reset_index(drop = True)"
   ]
  },
  {
   "cell_type": "markdown",
   "metadata": {},
   "source": [
    "The output shows that the variable 'Income' has the highest VIF. Now, we use the `for loop` to find VIF and remove the variables with VIF greater than 10. We set the threshold to 10, as we wish to remove the variable for which the remaining variables explain more than 90% of the variation. One can choose the threshold  other than 10. (it depends on the business requirements)"
   ]
  },
  {
   "cell_type": "code",
   "execution_count": 41,
   "metadata": {},
   "outputs": [
    {
     "name": "stdout",
     "output_type": "stream",
     "text": [
      "   VIF_Factor        Features\n",
      "0    1.176818    Other_Income\n",
      "1    1.107197        Overtime\n",
      "2    3.914703      Retirement\n",
      "3    3.699482  Other_Benefits\n"
     ]
    }
   ],
   "source": [
    "# for each numeric variable, calculate VIF and save it in a dataframe 'vif'\n",
    "\n",
    "# use for loop to iterate the VIF function \n",
    "for ind in range(len(df_numeric_features_vif.columns)):\n",
    "    \n",
    "    # create an empty dataframe\n",
    "    vif = pd.DataFrame()\n",
    "\n",
    "    # calculate VIF using list comprehension\n",
    "    # use for loop to access each variable \n",
    "    # calculate VIF for each variable and create a column 'VIF_Factor' to store the values \n",
    "    vif[\"VIF_Factor\"] = [variance_inflation_factor(df_numeric_features_vif.values, i) for i in range(df_numeric_features_vif.shape[1])]\n",
    "\n",
    "    # create a column of variable names\n",
    "    vif[\"Features\"] = df_numeric_features_vif.columns\n",
    "\n",
    "    # filter the variables with VIF greater than 10 and store it in a dataframe 'multi' \n",
    "    # one can choose the threshold other than 10 (it depends on the business requirements)\n",
    "    multi = vif[vif['VIF_Factor'] > 10]\n",
    "    \n",
    "    # if dataframe 'multi' is not empty, then sort the dataframe by VIF values\n",
    "    # if dataframe 'multi' is empty (i.e. all VIF <= 10), then print the dataframe 'vif' and break the for loop using 'break' \n",
    "    # 'by' sorts the data using given variable(s)\n",
    "    # 'ascending = False' sorts the data in descending order\n",
    "    if(multi.empty == False):\n",
    "        df_sorted = multi.sort_values(by = 'VIF_Factor', ascending = False)\n",
    "    else:\n",
    "        print(vif)\n",
    "        break\n",
    "    \n",
    "    # use if-else to drop the variable with the highest VIF\n",
    "    # if  dataframe 'df_sorted' is not empty, then drop the first entry in the column 'Features' from the numeric variables\n",
    "    # select the variable using 'iloc[]'\n",
    "    # 'axis=1' drops the corresponding column\n",
    "    #  else print the final dataframe 'vif' with all values after removal of variables with VIF less than 10  \n",
    "    if (df_sorted.empty == False):\n",
    "        df_numeric_features_vif = df_numeric_features_vif.drop(df_sorted.Features.iloc[0], axis=1)\n",
    "    else:\n",
    "        print(vif)"
   ]
  },
  {
   "cell_type": "code",
   "execution_count": 42,
   "metadata": {
    "scrolled": true
   },
   "outputs": [
    {
     "data": {
      "text/html": [
       "<div>\n",
       "<style scoped>\n",
       "    .dataframe tbody tr th:only-of-type {\n",
       "        vertical-align: middle;\n",
       "    }\n",
       "\n",
       "    .dataframe tbody tr th {\n",
       "        vertical-align: top;\n",
       "    }\n",
       "\n",
       "    .dataframe thead th {\n",
       "        text-align: right;\n",
       "    }\n",
       "</style>\n",
       "<table border=\"1\" class=\"dataframe\">\n",
       "  <thead>\n",
       "    <tr style=\"text-align: right;\">\n",
       "      <th></th>\n",
       "      <th>Other_Income</th>\n",
       "      <th>Overtime</th>\n",
       "      <th>Retirement</th>\n",
       "      <th>Other_Benefits</th>\n",
       "    </tr>\n",
       "  </thead>\n",
       "  <tbody>\n",
       "    <tr>\n",
       "      <th>0</th>\n",
       "      <td>-0.476483</td>\n",
       "      <td>-0.234449</td>\n",
       "      <td>1.173963</td>\n",
       "      <td>1.141794</td>\n",
       "    </tr>\n",
       "    <tr>\n",
       "      <th>1</th>\n",
       "      <td>-0.588280</td>\n",
       "      <td>-0.175594</td>\n",
       "      <td>-1.186975</td>\n",
       "      <td>-1.269380</td>\n",
       "    </tr>\n",
       "    <tr>\n",
       "      <th>3</th>\n",
       "      <td>0.091140</td>\n",
       "      <td>-0.431752</td>\n",
       "      <td>-0.037175</td>\n",
       "      <td>-0.043455</td>\n",
       "    </tr>\n",
       "    <tr>\n",
       "      <th>4</th>\n",
       "      <td>-0.588280</td>\n",
       "      <td>-0.429539</td>\n",
       "      <td>-0.318044</td>\n",
       "      <td>-0.263806</td>\n",
       "    </tr>\n",
       "    <tr>\n",
       "      <th>5</th>\n",
       "      <td>0.015083</td>\n",
       "      <td>-0.431014</td>\n",
       "      <td>0.506980</td>\n",
       "      <td>0.698624</td>\n",
       "    </tr>\n",
       "  </tbody>\n",
       "</table>\n",
       "</div>"
      ],
      "text/plain": [
       "   Other_Income  Overtime  Retirement  Other_Benefits\n",
       "0     -0.476483 -0.234449    1.173963        1.141794\n",
       "1     -0.588280 -0.175594   -1.186975       -1.269380\n",
       "3      0.091140 -0.431752   -0.037175       -0.043455\n",
       "4     -0.588280 -0.429539   -0.318044       -0.263806\n",
       "5      0.015083 -0.431014    0.506980        0.698624"
      ]
     },
     "execution_count": 42,
     "metadata": {},
     "output_type": "execute_result"
    }
   ],
   "source": [
    "# display the first 5 observations\n",
    "df_numeric_features_vif.head()"
   ]
  },
  {
   "cell_type": "markdown",
   "metadata": {},
   "source": [
    "**Interpretation** Now, we have all the variables with VIF less than 10. So, we can conclude that there is no multicollinearity in the data.<br>\n",
    "We will use the above dataframe \"df_numeric_features_vif\" to build the MLR model with significant variables."
   ]
  },
  {
   "cell_type": "markdown",
   "metadata": {},
   "source": [
    "<a id=\"model\"></a>\n",
    "## 5.2 Build the MLR Model"
   ]
  },
  {
   "cell_type": "markdown",
   "metadata": {},
   "source": [
    "<a id=\"full\"></a>\n",
    "### 5.2.1 MLR Full Model"
   ]
  },
  {
   "cell_type": "markdown",
   "metadata": {},
   "source": [
    "We use the OLS technique to predict the Total_Reimbursement by considering all the independent features in the data. "
   ]
  },
  {
   "cell_type": "markdown",
   "metadata": {},
   "source": [
    "#### Filter numerical and categorical variables"
   ]
  },
  {
   "cell_type": "code",
   "execution_count": 43,
   "metadata": {},
   "outputs": [],
   "source": [
    "# create dataframe of features by dropping the target variable\n",
    "# 'axis = 1' drops the corresponding column(s)\n",
    "df_feature = df_reimb.drop('Total_Reimbursement', axis = 1)\n",
    "\n",
    "# create dataframe of target variable\n",
    "df_target = df_reimb['Total_Reimbursement']"
   ]
  },
  {
   "cell_type": "code",
   "execution_count": 44,
   "metadata": {},
   "outputs": [
    {
     "data": {
      "text/plain": [
       "Index(['Income', 'Other_Income', 'Overtime', 'Total_Income',\n",
       "       'Health_Insurance', 'Retirement', 'Other_Benefits', 'Total_Benefits'],\n",
       "      dtype='object')"
      ]
     },
     "execution_count": 44,
     "metadata": {},
     "output_type": "execute_result"
    }
   ],
   "source": [
    "# filter the numerical features in the dataset\n",
    "# 'select_dtypes' is used to select the variables with given data type\n",
    "# 'include=[np.number]' will include all the numerical variables\n",
    "df_num = df_feature.select_dtypes(include=[np.number])\n",
    "\n",
    "# display numerical features\n",
    "df_num.columns"
   ]
  },
  {
   "cell_type": "code",
   "execution_count": 45,
   "metadata": {},
   "outputs": [
    {
     "data": {
      "text/plain": [
       "Index(['Year', 'Type_of_yr'], dtype='object')"
      ]
     },
     "execution_count": 45,
     "metadata": {},
     "output_type": "execute_result"
    }
   ],
   "source": [
    "# filter the categorical features in the dataset\n",
    "# 'select_dtypes' is used to select the variables with given data type\n",
    "# 'include=[np.object]' will include all the categorical variables\n",
    "df_cat = df_feature.select_dtypes(include=[np.object])\n",
    "\n",
    "# display categorical features\n",
    "df_cat.columns"
   ]
  },
  {
   "cell_type": "markdown",
   "metadata": {},
   "source": [
    "The OLS method fails in the presence of categorical variables. To overcome this we use (n-1) dummy encoding. \n",
    "\n",
    "**Encode the categorical variables and create (n-1) dummy variables for n categories of the variables.**"
   ]
  },
  {
   "cell_type": "code",
   "execution_count": 46,
   "metadata": {},
   "outputs": [],
   "source": [
    "# use 'get_dummies' from pandas to create dummy variables\n",
    "# use 'drop_first' to create (n-1) dummy variables\n",
    "encoded_data = pd.get_dummies(data = df_cat, drop_first=True)"
   ]
  },
  {
   "cell_type": "code",
   "execution_count": 47,
   "metadata": {},
   "outputs": [
    {
     "data": {
      "text/html": [
       "<div>\n",
       "<style scoped>\n",
       "    .dataframe tbody tr th:only-of-type {\n",
       "        vertical-align: middle;\n",
       "    }\n",
       "\n",
       "    .dataframe tbody tr th {\n",
       "        vertical-align: top;\n",
       "    }\n",
       "\n",
       "    .dataframe thead th {\n",
       "        text-align: right;\n",
       "    }\n",
       "</style>\n",
       "<table border=\"1\" class=\"dataframe\">\n",
       "  <thead>\n",
       "    <tr style=\"text-align: right;\">\n",
       "      <th></th>\n",
       "      <th>Year_2016</th>\n",
       "      <th>Year_2017</th>\n",
       "      <th>Year_2018</th>\n",
       "      <th>Type_of_yr_Financial</th>\n",
       "    </tr>\n",
       "  </thead>\n",
       "  <tbody>\n",
       "    <tr>\n",
       "      <th>0</th>\n",
       "      <td>0</td>\n",
       "      <td>0</td>\n",
       "      <td>0</td>\n",
       "      <td>1</td>\n",
       "    </tr>\n",
       "    <tr>\n",
       "      <th>1</th>\n",
       "      <td>0</td>\n",
       "      <td>0</td>\n",
       "      <td>0</td>\n",
       "      <td>0</td>\n",
       "    </tr>\n",
       "    <tr>\n",
       "      <th>3</th>\n",
       "      <td>0</td>\n",
       "      <td>0</td>\n",
       "      <td>1</td>\n",
       "      <td>1</td>\n",
       "    </tr>\n",
       "    <tr>\n",
       "      <th>4</th>\n",
       "      <td>0</td>\n",
       "      <td>1</td>\n",
       "      <td>0</td>\n",
       "      <td>1</td>\n",
       "    </tr>\n",
       "    <tr>\n",
       "      <th>5</th>\n",
       "      <td>0</td>\n",
       "      <td>1</td>\n",
       "      <td>0</td>\n",
       "      <td>0</td>\n",
       "    </tr>\n",
       "  </tbody>\n",
       "</table>\n",
       "</div>"
      ],
      "text/plain": [
       "   Year_2016  Year_2017  Year_2018  Type_of_yr_Financial\n",
       "0          0          0          0                     1\n",
       "1          0          0          0                     0\n",
       "3          0          0          1                     1\n",
       "4          0          1          0                     1\n",
       "5          0          1          0                     0"
      ]
     },
     "execution_count": 47,
     "metadata": {},
     "output_type": "execute_result"
    }
   ],
   "source": [
    "encoded_data.head()"
   ]
  },
  {
   "cell_type": "markdown",
   "metadata": {},
   "source": [
    "#### Concatenate numerical and dummy encoded categorical variables."
   ]
  },
  {
   "cell_type": "code",
   "execution_count": 48,
   "metadata": {},
   "outputs": [
    {
     "data": {
      "text/html": [
       "<div>\n",
       "<style scoped>\n",
       "    .dataframe tbody tr th:only-of-type {\n",
       "        vertical-align: middle;\n",
       "    }\n",
       "\n",
       "    .dataframe tbody tr th {\n",
       "        vertical-align: top;\n",
       "    }\n",
       "\n",
       "    .dataframe thead th {\n",
       "        text-align: right;\n",
       "    }\n",
       "</style>\n",
       "<table border=\"1\" class=\"dataframe\">\n",
       "  <thead>\n",
       "    <tr style=\"text-align: right;\">\n",
       "      <th></th>\n",
       "      <th>Income</th>\n",
       "      <th>Other_Income</th>\n",
       "      <th>Overtime</th>\n",
       "      <th>Total_Income</th>\n",
       "      <th>Health_Insurance</th>\n",
       "      <th>Retirement</th>\n",
       "      <th>Other_Benefits</th>\n",
       "      <th>Total_Benefits</th>\n",
       "      <th>Year_2016</th>\n",
       "      <th>Year_2017</th>\n",
       "      <th>Year_2018</th>\n",
       "      <th>Type_of_yr_Financial</th>\n",
       "    </tr>\n",
       "  </thead>\n",
       "  <tbody>\n",
       "    <tr>\n",
       "      <th>0</th>\n",
       "      <td>0.979272</td>\n",
       "      <td>-0.476483</td>\n",
       "      <td>-0.234449</td>\n",
       "      <td>0.921924</td>\n",
       "      <td>0.911621</td>\n",
       "      <td>1.173963</td>\n",
       "      <td>1.141794</td>\n",
       "      <td>1.156388</td>\n",
       "      <td>0</td>\n",
       "      <td>0</td>\n",
       "      <td>0</td>\n",
       "      <td>1</td>\n",
       "    </tr>\n",
       "    <tr>\n",
       "      <th>1</th>\n",
       "      <td>-1.259481</td>\n",
       "      <td>-0.588280</td>\n",
       "      <td>-0.175594</td>\n",
       "      <td>-1.270526</td>\n",
       "      <td>-1.504303</td>\n",
       "      <td>-1.186975</td>\n",
       "      <td>-1.269380</td>\n",
       "      <td>-1.374560</td>\n",
       "      <td>0</td>\n",
       "      <td>0</td>\n",
       "      <td>0</td>\n",
       "      <td>0</td>\n",
       "    </tr>\n",
       "    <tr>\n",
       "      <th>3</th>\n",
       "      <td>-0.170114</td>\n",
       "      <td>0.091140</td>\n",
       "      <td>-0.431752</td>\n",
       "      <td>-0.175099</td>\n",
       "      <td>-1.592864</td>\n",
       "      <td>-0.037175</td>\n",
       "      <td>-0.043455</td>\n",
       "      <td>-0.529238</td>\n",
       "      <td>0</td>\n",
       "      <td>0</td>\n",
       "      <td>1</td>\n",
       "      <td>1</td>\n",
       "    </tr>\n",
       "    <tr>\n",
       "      <th>4</th>\n",
       "      <td>-0.264471</td>\n",
       "      <td>-0.588280</td>\n",
       "      <td>-0.429539</td>\n",
       "      <td>-0.306397</td>\n",
       "      <td>-0.409093</td>\n",
       "      <td>-0.318044</td>\n",
       "      <td>-0.263806</td>\n",
       "      <td>-0.355332</td>\n",
       "      <td>0</td>\n",
       "      <td>1</td>\n",
       "      <td>0</td>\n",
       "      <td>1</td>\n",
       "    </tr>\n",
       "    <tr>\n",
       "      <th>5</th>\n",
       "      <td>0.531722</td>\n",
       "      <td>0.015083</td>\n",
       "      <td>-0.431014</td>\n",
       "      <td>0.506445</td>\n",
       "      <td>0.989313</td>\n",
       "      <td>0.506980</td>\n",
       "      <td>0.698624</td>\n",
       "      <td>0.726492</td>\n",
       "      <td>0</td>\n",
       "      <td>1</td>\n",
       "      <td>0</td>\n",
       "      <td>0</td>\n",
       "    </tr>\n",
       "  </tbody>\n",
       "</table>\n",
       "</div>"
      ],
      "text/plain": [
       "     Income  Other_Income  Overtime  Total_Income  Health_Insurance  \\\n",
       "0  0.979272     -0.476483 -0.234449      0.921924          0.911621   \n",
       "1 -1.259481     -0.588280 -0.175594     -1.270526         -1.504303   \n",
       "3 -0.170114      0.091140 -0.431752     -0.175099         -1.592864   \n",
       "4 -0.264471     -0.588280 -0.429539     -0.306397         -0.409093   \n",
       "5  0.531722      0.015083 -0.431014      0.506445          0.989313   \n",
       "\n",
       "   Retirement  Other_Benefits  Total_Benefits  Year_2016  Year_2017  \\\n",
       "0    1.173963        1.141794        1.156388          0          0   \n",
       "1   -1.186975       -1.269380       -1.374560          0          0   \n",
       "3   -0.037175       -0.043455       -0.529238          0          0   \n",
       "4   -0.318044       -0.263806       -0.355332          0          1   \n",
       "5    0.506980        0.698624        0.726492          0          1   \n",
       "\n",
       "   Year_2018  Type_of_yr_Financial  \n",
       "0          0                     1  \n",
       "1          0                     0  \n",
       "3          1                     1  \n",
       "4          0                     1  \n",
       "5          0                     0  "
      ]
     },
     "execution_count": 48,
     "metadata": {},
     "output_type": "execute_result"
    }
   ],
   "source": [
    "# concat the dummy variables with numeric features to create a dataframe of all independent variables\n",
    "# 'axis=1' concats the dataframes along columns \n",
    "df_reimb_dummy = pd.concat([df_num, encoded_data], axis=1)\n",
    "\n",
    "# display first five observations\n",
    "df_reimb_dummy.head()"
   ]
  },
  {
   "cell_type": "markdown",
   "metadata": {},
   "source": [
    "**Interpretation:** We can see that the dummy variables are added to the data."
   ]
  },
  {
   "cell_type": "markdown",
   "metadata": {},
   "source": [
    "#### Split the data into training and test sets."
   ]
  },
  {
   "cell_type": "code",
   "execution_count": 49,
   "metadata": {},
   "outputs": [
    {
     "name": "stdout",
     "output_type": "stream",
     "text": [
      "X_train_full (26320, 13)\n",
      "y_train_full (26320,)\n",
      "X_test_full (11281, 13)\n",
      "y_test_full (11281,)\n"
     ]
    }
   ],
   "source": [
    "# set of independent variables\n",
    "# create a copy of 'df_reimb_dummy' and store in the dataframe 'X_full'\n",
    "X_full = df_reimb_dummy.copy()\n",
    "\n",
    "# dependent variable\n",
    "# create a copy of 'df_target' and store in the dataframe 'y_full'\n",
    "y_full = df_target.copy()\n",
    "\n",
    "# to estimate the regression coefficient, a constant term of '1' needs to be added as a separate column\n",
    "# 'sm.add_constant' adds the intercept to the model\n",
    "X_full = sm.add_constant(X_full)\n",
    "\n",
    "# split data into train subset and test subset\n",
    "# set 'random_state' to generate the same dataset each time you run the code \n",
    "# 'test_size' returns the proportion of data to be included in the testing set\n",
    "X_train_full, X_test_full, y_train_full, y_test_full = train_test_split(X_full, y_full, random_state=1, test_size = 0.3)\n",
    "\n",
    "# checking the dimensions of the train & test subset\n",
    "# print dimension of train set\n",
    "print('X_train_full', X_train_full.shape)\n",
    "print('y_train_full', y_train_full.shape)\n",
    "\n",
    "# print dimension of test set\n",
    "print('X_test_full', X_test_full.shape)\n",
    "print('y_test_full', y_test_full.shape)"
   ]
  },
  {
   "cell_type": "markdown",
   "metadata": {},
   "source": [
    "**Build the multiple linear regression model using the OLS method.**"
   ]
  },
  {
   "cell_type": "code",
   "execution_count": 50,
   "metadata": {
    "scrolled": false
   },
   "outputs": [
    {
     "name": "stdout",
     "output_type": "stream",
     "text": [
      "                             OLS Regression Results                            \n",
      "===============================================================================\n",
      "Dep. Variable:     Total_Reimbursement   R-squared:                       1.000\n",
      "Model:                             OLS   Adj. R-squared:                  1.000\n",
      "Method:                  Least Squares   F-statistic:                 1.368e+33\n",
      "Date:                 Fri, 16 Oct 2020   Prob (F-statistic):               0.00\n",
      "Time:                         15:58:59   Log-Likelihood:             8.6308e+05\n",
      "No. Observations:                26320   AIC:                        -1.726e+06\n",
      "Df Residuals:                    26309   BIC:                        -1.726e+06\n",
      "Df Model:                           10                                         \n",
      "Covariance Type:             nonrobust                                         \n",
      "========================================================================================\n",
      "                           coef    std err          t      P>|t|      [0.025      0.975]\n",
      "----------------------------------------------------------------------------------------\n",
      "const                -2.091e-14   1.85e-17  -1128.208      0.000   -2.09e-14   -2.09e-14\n",
      "Income                   0.3643   1.67e-17   2.18e+16      0.000       0.364       0.364\n",
      "Other_Income             0.0215   9.42e-18   2.28e+15      0.000       0.021       0.021\n",
      "Overtime                 0.0122    9.2e-18   1.32e+15      0.000       0.012       0.012\n",
      "Total_Income             0.3576   1.63e-17    2.2e+16      0.000       0.358       0.358\n",
      "Health_Insurance         0.0609   1.62e-17   3.77e+15      0.000       0.061       0.061\n",
      "Retirement               0.1071   2.55e-17    4.2e+15      0.000       0.107       0.107\n",
      "Other_Benefits           0.0378   1.85e-17   2.04e+15      0.000       0.038       0.038\n",
      "Total_Benefits           0.0856   1.17e-17   7.34e+15      0.000       0.086       0.086\n",
      "Year_2016            -8.847e-17   2.93e-17     -3.015      0.003   -1.46e-16    -3.1e-17\n",
      "Year_2017             3.235e-16   2.34e-17     13.855      0.000    2.78e-16    3.69e-16\n",
      "Year_2018             2.316e-16   2.25e-17     10.273      0.000    1.87e-16    2.76e-16\n",
      "Type_of_yr_Financial  1.136e-16   1.86e-17      6.118      0.000    7.72e-17     1.5e-16\n",
      "==============================================================================\n",
      "Omnibus:                     1430.668   Durbin-Watson:                   1.954\n",
      "Prob(Omnibus):                  0.000   Jarque-Bera (JB):              993.559\n",
      "Skew:                          -0.367   Prob(JB):                    1.78e-216\n",
      "Kurtosis:                       2.395   Cond. No.                     4.03e+16\n",
      "==============================================================================\n",
      "\n",
      "Warnings:\n",
      "[1] Standard Errors assume that the covariance matrix of the errors is correctly specified.\n",
      "[2] The smallest eigenvalue is 9.08e-29. This might indicate that there are\n",
      "strong multicollinearity problems or that the design matrix is singular.\n"
     ]
    }
   ],
   "source": [
    "# build a model on training dataset\n",
    "# fit() is used to fit the OLS model\n",
    "MLR_full_model = sm.OLS(y_train_full, X_train_full).fit()\n",
    "\n",
    "# print the summary output\n",
    "print(MLR_full_model.summary())"
   ]
  },
  {
   "cell_type": "markdown",
   "metadata": {},
   "source": [
    "**Interpretation:** The R-squared value obtained from this model is 1.0 which means that the above model explains a 100% of the variation in the Total_Reimbursement. But, this can't be possible.<br> \n",
    "\n",
    "The `Durbin-Watson` test is used to check the autocorrelation between the residuals.\n",
    "\n",
    "If the Durbin-Watson test statistic is near to 2: no autocorrelation<br>\n",
    "If the Durbin-Watson test statistic is between 0 and 2: positive autocorrelation <br>\n",
    "If the Durbin-Watson test statistic is between 2 and 4: negative autocorrelation\n",
    "\n",
    "The summary output shows that the value of the test statistic is far from 2 (= 1.954) which means there is autocorrelation.\n",
    "\n",
    "The `Jarque-Bera` test is used to check the normality of the residuals. Here, the p-value of the test is less than 0.05; that implies the residuals are not normally distributed.\n",
    "\n",
    "Also, the 'Cond. No' (4.03e+16) represents the `Condition Number (CN)` that is used to check the multicollinearity. \n",
    "\n",
    "If CN < 100: no multicollinearity.<br> \n",
    "If CN is between 100 and 1000: moderate multicollinearity<br>\n",
    "If CN > 1000: severe multicollinearity\n",
    "\n",
    "Thus, it can be seen that there is severe multicollinearity in the data."
   ]
  },
  {
   "cell_type": "markdown",
   "metadata": {},
   "source": [
    "#### Predict the Total_Reimbursement using X_test_full"
   ]
  },
  {
   "cell_type": "code",
   "execution_count": 51,
   "metadata": {},
   "outputs": [],
   "source": [
    "y_pred_full = MLR_full_model.predict(X_test_full)"
   ]
  },
  {
   "cell_type": "markdown",
   "metadata": {},
   "source": [
    "<a id=\"signi_var\"></a>\n",
    "### 5.2.2 MLR Model after Removing Insignificant Variables"
   ]
  },
  {
   "cell_type": "markdown",
   "metadata": {},
   "source": [
    "Now, let us build the model using the categorical variable and the variables obtained from VIF. "
   ]
  },
  {
   "cell_type": "markdown",
   "metadata": {},
   "source": [
    "#### Filter numerical and categorical variables"
   ]
  },
  {
   "cell_type": "code",
   "execution_count": 52,
   "metadata": {},
   "outputs": [
    {
     "data": {
      "text/plain": [
       "Index(['Other_Income', 'Overtime', 'Retirement', 'Other_Benefits'], dtype='object')"
      ]
     },
     "execution_count": 52,
     "metadata": {},
     "output_type": "execute_result"
    }
   ],
   "source": [
    "# display numeric features obtained from VIF\n",
    "df_numeric_features_vif.columns"
   ]
  },
  {
   "cell_type": "code",
   "execution_count": 53,
   "metadata": {},
   "outputs": [
    {
     "data": {
      "text/plain": [
       "Index(['Year', 'Type_of_yr'], dtype='object')"
      ]
     },
     "execution_count": 53,
     "metadata": {},
     "output_type": "execute_result"
    }
   ],
   "source": [
    "# filter the categorical features in the dataset\n",
    "# 'select_dtypes' is used to select the variables with given data type\n",
    "# 'include=[np.object]' will include all the categorical variables\n",
    "df_cat = df_feature.select_dtypes(include=[np.object])\n",
    "\n",
    "# display categorical features\n",
    "df_cat.columns"
   ]
  },
  {
   "cell_type": "markdown",
   "metadata": {},
   "source": [
    "The OLS method fails in the presence of categorical variables. To overcome this we use (n-1) dummy encoding. \n",
    "\n",
    "**Encode the categorical variables and create (n-1) dummy variables for n categories.**"
   ]
  },
  {
   "cell_type": "code",
   "execution_count": 54,
   "metadata": {},
   "outputs": [],
   "source": [
    "# use 'get_dummies' from pandas to create dummy variables\n",
    "# use 'drop_first' to create (n-1) dummy variables\n",
    "encoded_data = pd.get_dummies(data = df_cat, drop_first=True)"
   ]
  },
  {
   "cell_type": "markdown",
   "metadata": {},
   "source": [
    "#### Concatenate numerical and dummy encoded categorical variables."
   ]
  },
  {
   "cell_type": "code",
   "execution_count": 55,
   "metadata": {},
   "outputs": [
    {
     "data": {
      "text/html": [
       "<div>\n",
       "<style scoped>\n",
       "    .dataframe tbody tr th:only-of-type {\n",
       "        vertical-align: middle;\n",
       "    }\n",
       "\n",
       "    .dataframe tbody tr th {\n",
       "        vertical-align: top;\n",
       "    }\n",
       "\n",
       "    .dataframe thead th {\n",
       "        text-align: right;\n",
       "    }\n",
       "</style>\n",
       "<table border=\"1\" class=\"dataframe\">\n",
       "  <thead>\n",
       "    <tr style=\"text-align: right;\">\n",
       "      <th></th>\n",
       "      <th>Other_Income</th>\n",
       "      <th>Overtime</th>\n",
       "      <th>Retirement</th>\n",
       "      <th>Other_Benefits</th>\n",
       "      <th>Year_2016</th>\n",
       "      <th>Year_2017</th>\n",
       "      <th>Year_2018</th>\n",
       "      <th>Type_of_yr_Financial</th>\n",
       "    </tr>\n",
       "  </thead>\n",
       "  <tbody>\n",
       "    <tr>\n",
       "      <th>0</th>\n",
       "      <td>-0.476483</td>\n",
       "      <td>-0.234449</td>\n",
       "      <td>1.173963</td>\n",
       "      <td>1.141794</td>\n",
       "      <td>0</td>\n",
       "      <td>0</td>\n",
       "      <td>0</td>\n",
       "      <td>1</td>\n",
       "    </tr>\n",
       "    <tr>\n",
       "      <th>1</th>\n",
       "      <td>-0.588280</td>\n",
       "      <td>-0.175594</td>\n",
       "      <td>-1.186975</td>\n",
       "      <td>-1.269380</td>\n",
       "      <td>0</td>\n",
       "      <td>0</td>\n",
       "      <td>0</td>\n",
       "      <td>0</td>\n",
       "    </tr>\n",
       "    <tr>\n",
       "      <th>3</th>\n",
       "      <td>0.091140</td>\n",
       "      <td>-0.431752</td>\n",
       "      <td>-0.037175</td>\n",
       "      <td>-0.043455</td>\n",
       "      <td>0</td>\n",
       "      <td>0</td>\n",
       "      <td>1</td>\n",
       "      <td>1</td>\n",
       "    </tr>\n",
       "    <tr>\n",
       "      <th>4</th>\n",
       "      <td>-0.588280</td>\n",
       "      <td>-0.429539</td>\n",
       "      <td>-0.318044</td>\n",
       "      <td>-0.263806</td>\n",
       "      <td>0</td>\n",
       "      <td>1</td>\n",
       "      <td>0</td>\n",
       "      <td>1</td>\n",
       "    </tr>\n",
       "    <tr>\n",
       "      <th>5</th>\n",
       "      <td>0.015083</td>\n",
       "      <td>-0.431014</td>\n",
       "      <td>0.506980</td>\n",
       "      <td>0.698624</td>\n",
       "      <td>0</td>\n",
       "      <td>1</td>\n",
       "      <td>0</td>\n",
       "      <td>0</td>\n",
       "    </tr>\n",
       "  </tbody>\n",
       "</table>\n",
       "</div>"
      ],
      "text/plain": [
       "   Other_Income  Overtime  Retirement  Other_Benefits  Year_2016  Year_2017  \\\n",
       "0     -0.476483 -0.234449    1.173963        1.141794          0          0   \n",
       "1     -0.588280 -0.175594   -1.186975       -1.269380          0          0   \n",
       "3      0.091140 -0.431752   -0.037175       -0.043455          0          0   \n",
       "4     -0.588280 -0.429539   -0.318044       -0.263806          0          1   \n",
       "5      0.015083 -0.431014    0.506980        0.698624          0          1   \n",
       "\n",
       "   Year_2018  Type_of_yr_Financial  \n",
       "0          0                     1  \n",
       "1          0                     0  \n",
       "3          1                     1  \n",
       "4          0                     1  \n",
       "5          0                     0  "
      ]
     },
     "execution_count": 55,
     "metadata": {},
     "output_type": "execute_result"
    }
   ],
   "source": [
    "# concat the dummy variables with numeric features to create a dataframe of all independent variables\n",
    "# 'axis=1' concats the dataframes along columns \n",
    "df_reimb_dummy = pd.concat([df_numeric_features_vif, encoded_data], axis=1)\n",
    "\n",
    "# display first five observations\n",
    "df_reimb_dummy.head()"
   ]
  },
  {
   "cell_type": "markdown",
   "metadata": {},
   "source": [
    "**Interpretation:** We can see that the dummy variables are added to the data."
   ]
  },
  {
   "cell_type": "markdown",
   "metadata": {},
   "source": [
    "#### Split the data into training and test sets."
   ]
  },
  {
   "cell_type": "code",
   "execution_count": 56,
   "metadata": {},
   "outputs": [
    {
     "name": "stdout",
     "output_type": "stream",
     "text": [
      "X_train_signi_var (26320, 9)\n",
      "y_train_signi_var (26320,)\n",
      "X_test_signi_var (11281, 9)\n",
      "y_test_signi_var (11281,)\n"
     ]
    }
   ],
   "source": [
    "# set of independent variables\n",
    "# create a copy of 'df_reimb_dummy' and store in the dataframe 'X_signi_var'\n",
    "X_signi_var = df_reimb_dummy.copy()\n",
    "\n",
    "# dependent variable\n",
    "# create a copy of 'df_target' and store in the dataframe 'y_signi_var'\n",
    "y_signi_var = df_target.copy()\n",
    "\n",
    "# to estimate the regression coefficient, a constant term of '1' needs to be added as a separate column\n",
    "# 'sm.add_constant' adds the intercept to the model\n",
    "X_signi_var = sm.add_constant(X_signi_var)\n",
    "\n",
    "# split data into train subset and test subset\n",
    "# set 'random_state' to generate the same dataset each time you run the code \n",
    "# 'test_size' returns the proportion of data to be included in the testing set\n",
    "X_train_signi_var, X_test_signi_var, y_train_signi_var, y_test_signi_var = train_test_split(X_signi_var, y_signi_var, \n",
    "                                                                                            random_state=1, test_size = 0.3)\n",
    "\n",
    "# checking the dimensions of the train & test subset\n",
    "# print dimension of train set\n",
    "print('X_train_signi_var', X_train_signi_var.shape)\n",
    "print('y_train_signi_var', y_train_signi_var.shape)\n",
    "\n",
    "# print dimension of test set\n",
    "print('X_test_signi_var', X_test_signi_var.shape)\n",
    "print('y_test_signi_var', y_test_signi_var.shape)"
   ]
  },
  {
   "cell_type": "markdown",
   "metadata": {},
   "source": [
    "**Build the multiple linear regression model using the OLS method.**"
   ]
  },
  {
   "cell_type": "code",
   "execution_count": 57,
   "metadata": {
    "scrolled": false
   },
   "outputs": [
    {
     "name": "stdout",
     "output_type": "stream",
     "text": [
      "                             OLS Regression Results                            \n",
      "===============================================================================\n",
      "Dep. Variable:     Total_Reimbursement   R-squared:                       0.962\n",
      "Model:                             OLS   Adj. R-squared:                  0.962\n",
      "Method:                  Least Squares   F-statistic:                 8.218e+04\n",
      "Date:                 Fri, 16 Oct 2020   Prob (F-statistic):               0.00\n",
      "Time:                         15:58:59   Log-Likelihood:                 5495.0\n",
      "No. Observations:                26320   AIC:                        -1.097e+04\n",
      "Df Residuals:                    26311   BIC:                        -1.090e+04\n",
      "Df Model:                            8                                         \n",
      "Covariance Type:             nonrobust                                         \n",
      "========================================================================================\n",
      "                           coef    std err          t      P>|t|      [0.025      0.975]\n",
      "----------------------------------------------------------------------------------------\n",
      "const                   -0.0454      0.003    -17.418      0.000      -0.050      -0.040\n",
      "Other_Income             0.0563      0.001     42.864      0.000       0.054       0.059\n",
      "Overtime                 0.0161      0.001     12.692      0.000       0.014       0.019\n",
      "Retirement               0.7582      0.002    309.327      0.000       0.753       0.763\n",
      "Other_Benefits           0.2300      0.002     96.794      0.000       0.225       0.235\n",
      "Year_2016                0.1115      0.004     27.297      0.000       0.104       0.120\n",
      "Year_2017                0.0989      0.003     30.513      0.000       0.093       0.105\n",
      "Year_2018                0.0019      0.003      0.603      0.547      -0.004       0.008\n",
      "Type_of_yr_Financial     0.0019      0.003      0.714      0.475      -0.003       0.007\n",
      "==============================================================================\n",
      "Omnibus:                    12755.584   Durbin-Watson:                   1.965\n",
      "Prob(Omnibus):                  0.000   Jarque-Bera (JB):           939423.249\n",
      "Skew:                           1.478   Prob(JB):                         0.00\n",
      "Kurtosis:                      32.118   Cond. No.                         6.05\n",
      "==============================================================================\n",
      "\n",
      "Warnings:\n",
      "[1] Standard Errors assume that the covariance matrix of the errors is correctly specified.\n"
     ]
    }
   ],
   "source": [
    "# build a model on training dataset\n",
    "# fit() is used to fit the OLS model\n",
    "MLR_model_vif = sm.OLS(y_train_signi_var, X_train_signi_var).fit()\n",
    "\n",
    "# print the summary output\n",
    "print(MLR_model_vif.summary())"
   ]
  },
  {
   "cell_type": "markdown",
   "metadata": {},
   "source": [
    "**Interpretation:** The R-squared value obtained from this model is 0.962 which means that the above model explains a 96.2% of the variation in the Total_Reimbursement. Also, we can see that the p-value for some variabels is greater than 0.05, we remove such variables and again build the model."
   ]
  },
  {
   "cell_type": "markdown",
   "metadata": {},
   "source": [
    "Now, calculate the p-values for each variable and create a list of all insignificant variables in the model."
   ]
  },
  {
   "cell_type": "markdown",
   "metadata": {},
   "source": [
    "#### Calculate the p-values to know the insignificant variables"
   ]
  },
  {
   "cell_type": "code",
   "execution_count": 58,
   "metadata": {},
   "outputs": [
    {
     "data": {
      "text/html": [
       "<div>\n",
       "<style scoped>\n",
       "    .dataframe tbody tr th:only-of-type {\n",
       "        vertical-align: middle;\n",
       "    }\n",
       "\n",
       "    .dataframe tbody tr th {\n",
       "        vertical-align: top;\n",
       "    }\n",
       "\n",
       "    .dataframe thead th {\n",
       "        text-align: right;\n",
       "    }\n",
       "</style>\n",
       "<table border=\"1\" class=\"dataframe\">\n",
       "  <thead>\n",
       "    <tr style=\"text-align: right;\">\n",
       "      <th></th>\n",
       "      <th>P-Value</th>\n",
       "    </tr>\n",
       "  </thead>\n",
       "  <tbody>\n",
       "    <tr>\n",
       "      <th>const</th>\n",
       "      <td>0.000000</td>\n",
       "    </tr>\n",
       "    <tr>\n",
       "      <th>Other_Income</th>\n",
       "      <td>0.000000</td>\n",
       "    </tr>\n",
       "    <tr>\n",
       "      <th>Overtime</th>\n",
       "      <td>0.000000</td>\n",
       "    </tr>\n",
       "    <tr>\n",
       "      <th>Retirement</th>\n",
       "      <td>0.000000</td>\n",
       "    </tr>\n",
       "    <tr>\n",
       "      <th>Other_Benefits</th>\n",
       "      <td>0.000000</td>\n",
       "    </tr>\n",
       "    <tr>\n",
       "      <th>Year_2016</th>\n",
       "      <td>0.000000</td>\n",
       "    </tr>\n",
       "    <tr>\n",
       "      <th>Year_2017</th>\n",
       "      <td>0.000000</td>\n",
       "    </tr>\n",
       "    <tr>\n",
       "      <th>Year_2018</th>\n",
       "      <td>0.546668</td>\n",
       "    </tr>\n",
       "    <tr>\n",
       "      <th>Type_of_yr_Financial</th>\n",
       "      <td>0.475203</td>\n",
       "    </tr>\n",
       "  </tbody>\n",
       "</table>\n",
       "</div>"
      ],
      "text/plain": [
       "                      P-Value\n",
       "const                0.000000\n",
       "Other_Income         0.000000\n",
       "Overtime             0.000000\n",
       "Retirement           0.000000\n",
       "Other_Benefits       0.000000\n",
       "Year_2016            0.000000\n",
       "Year_2017            0.000000\n",
       "Year_2018            0.546668\n",
       "Type_of_yr_Financial 0.475203"
      ]
     },
     "execution_count": 58,
     "metadata": {},
     "output_type": "execute_result"
    }
   ],
   "source": [
    "# calculate p-values for all the independent variables in the MLR_model\n",
    "# create a dataframe containing p-values \n",
    "# pass the column name to the parameter 'columns'\n",
    "MLR_pvalues = pd.DataFrame(MLR_model_vif.pvalues, columns = [\"P-Value\"])\n",
    "\n",
    "# print the dataframe\n",
    "MLR_pvalues"
   ]
  },
  {
   "cell_type": "markdown",
   "metadata": {},
   "source": [
    "**Interpretation:** The above table shows the p-value of each variable. Use this dataframe to identify the significant variables."
   ]
  },
  {
   "cell_type": "markdown",
   "metadata": {},
   "source": [
    "#### Create a list of insignificant variables."
   ]
  },
  {
   "cell_type": "code",
   "execution_count": 59,
   "metadata": {},
   "outputs": [
    {
     "data": {
      "text/plain": [
       "['Year_2018', 'Type_of_yr_Financial']"
      ]
     },
     "execution_count": 59,
     "metadata": {},
     "output_type": "execute_result"
    }
   ],
   "source": [
    "# subset the dataframe 'MLR_pvalues' such that the variables will have p-value greater than 0.05\n",
    "# store the subset of a dataframe to a new dataframe 'insignificant_var' \n",
    "insignificant_var = MLR_pvalues[1:][MLR_pvalues[1:]['P-Value'] > 0.05]\n",
    "\n",
    "# get the variable names with p-value greater than 0.05\n",
    "insigni_var = insignificant_var.index\n",
    "\n",
    "# convert the variables to the type 'list' using 'to_list()'\n",
    "insigni_var = insigni_var.to_list()\n",
    "\n",
    "# print the list of insignificant variables\n",
    "insigni_var"
   ]
  },
  {
   "cell_type": "markdown",
   "metadata": {},
   "source": [
    "Now, build a model after removing the insignificant variables from the data.\n",
    "\n",
    "Drop the variable `Type_of_yr`, as one category 'Financial' is insignificant. We do not dro the variable 'Year' as only one category out of 4 categories is insignificant."
   ]
  },
  {
   "cell_type": "code",
   "execution_count": 60,
   "metadata": {
    "scrolled": false
   },
   "outputs": [
    {
     "name": "stdout",
     "output_type": "stream",
     "text": [
      "                             OLS Regression Results                            \n",
      "===============================================================================\n",
      "Dep. Variable:     Total_Reimbursement   R-squared:                       0.962\n",
      "Model:                             OLS   Adj. R-squared:                  0.962\n",
      "Method:                  Least Squares   F-statistic:                 9.392e+04\n",
      "Date:                 Fri, 16 Oct 2020   Prob (F-statistic):               0.00\n",
      "Time:                         15:58:59   Log-Likelihood:                 5494.8\n",
      "No. Observations:                26320   AIC:                        -1.097e+04\n",
      "Df Residuals:                    26312   BIC:                        -1.091e+04\n",
      "Df Model:                            7                                         \n",
      "Covariance Type:             nonrobust                                         \n",
      "==================================================================================\n",
      "                     coef    std err          t      P>|t|      [0.025      0.975]\n",
      "----------------------------------------------------------------------------------\n",
      "const             -0.0444      0.002    -19.797      0.000      -0.049      -0.040\n",
      "Other_Income       0.0563      0.001     42.860      0.000       0.054       0.059\n",
      "Overtime           0.0161      0.001     12.691      0.000       0.014       0.019\n",
      "Retirement         0.7582      0.002    309.332      0.000       0.753       0.763\n",
      "Other_Benefits     0.2300      0.002     96.798      0.000       0.225       0.235\n",
      "Year_2016          0.1125      0.004     29.036      0.000       0.105       0.120\n",
      "Year_2017          0.0989      0.003     30.512      0.000       0.093       0.105\n",
      "Year_2018          0.0019      0.003      0.597      0.551      -0.004       0.008\n",
      "==============================================================================\n",
      "Omnibus:                    12762.143   Durbin-Watson:                   1.965\n",
      "Prob(Omnibus):                  0.000   Jarque-Bera (JB):           939475.220\n",
      "Skew:                           1.479   Prob(JB):                         0.00\n",
      "Kurtosis:                      32.119   Cond. No.                         6.03\n",
      "==============================================================================\n",
      "\n",
      "Warnings:\n",
      "[1] Standard Errors assume that the covariance matrix of the errors is correctly specified.\n"
     ]
    }
   ],
   "source": [
    "# drop the insignificant variables from the dataframe 'X_train_signi_var'\n",
    "# we drop the variable 'Type_of_yr_Financial', as it is insignificant\n",
    "# 'axis = 1' drops the corresponding column(s)\n",
    "X_train_signi_var = X_train_signi_var.drop(['Type_of_yr_Financial'], axis=1)\n",
    "\n",
    "# drop the insignificant variables from the dataframe 'X_test_signi_var'\n",
    "# 'axis = 1' drops the corresponding column(s)\n",
    "X_test_signi_var = X_test_signi_var.drop(['Type_of_yr_Financial'], axis=1)\n",
    "\n",
    "# building a model on training dataset\n",
    "# fit() is used to fit the OLS model\n",
    "MLR_model_with_significant_var = sm.OLS(y_train_signi_var, X_train_signi_var).fit()\n",
    "\n",
    "# print the summary output\n",
    "print(MLR_model_with_significant_var.summary())"
   ]
  },
  {
   "cell_type": "markdown",
   "metadata": {},
   "source": [
    "**Interpretation:** The R-squared value obtained from this model is 0.962 which means that the above model explains 96.2% of the variation in the Total_Reimbursement.<br>\n",
    "\n",
    "The `Durbin-Watson` test is used to check the autocorrelation between the residuals.\n",
    "\n",
    "If the Durbin-Watson test statistic is near to 2: no autocorrelation<br>\n",
    "If the Durbin-Watson test statistic is between 0 and 2: positive autocorrelation <br>\n",
    "If the Durbin-Watson test statistic is between 2 and 4: negative autocorrelation\n",
    "\n",
    "The summary output shows that the value of the test statistic is close to 2 (= 1.965) which means there is no autocorrelation.\n",
    "\n",
    "The `Jarque-Bera` test is used to check the normality of the residuals. Here, the p-value of the test is less than 0.05; that implies the residuals are not normally distributed.\n",
    "\n",
    "Also, the 'Cond. No' (= 6.03) represents the `Condition Number (CN)` that is used to check the multicollinearity. \n",
    "\n",
    "If CN < 100: no multicollinearity.<br> \n",
    "If CN is between 100 and 1000: moderate multicollinearity<br>\n",
    "If CN > 1000: severe multicollinearity\n",
    "\n",
    "Thus, it can be seen that there is no multicollinearity in the data."
   ]
  },
  {
   "cell_type": "markdown",
   "metadata": {},
   "source": [
    "#### Predict the Total_Reimbursement using X_test_signi_var"
   ]
  },
  {
   "cell_type": "code",
   "execution_count": 61,
   "metadata": {},
   "outputs": [],
   "source": [
    "y_pred_signi_var = MLR_model_with_significant_var.predict(X_test_signi_var)"
   ]
  },
  {
   "cell_type": "markdown",
   "metadata": {},
   "source": [
    "<a id=\"interaction\"></a>\n",
    "### 5.2.3 MLR Model with Interaction Effect"
   ]
  },
  {
   "cell_type": "markdown",
   "metadata": {},
   "source": [
    "It occurs when the effect of one variable depends on the other variable. The combined effect of the variables may or may not improve the performance of the model.\n",
    "\n",
    "We consider the combined effect of Other_Income and Other_Benefits."
   ]
  },
  {
   "cell_type": "code",
   "execution_count": 62,
   "metadata": {},
   "outputs": [
    {
     "data": {
      "text/html": [
       "<div>\n",
       "<style scoped>\n",
       "    .dataframe tbody tr th:only-of-type {\n",
       "        vertical-align: middle;\n",
       "    }\n",
       "\n",
       "    .dataframe tbody tr th {\n",
       "        vertical-align: top;\n",
       "    }\n",
       "\n",
       "    .dataframe thead th {\n",
       "        text-align: right;\n",
       "    }\n",
       "</style>\n",
       "<table border=\"1\" class=\"dataframe\">\n",
       "  <thead>\n",
       "    <tr style=\"text-align: right;\">\n",
       "      <th></th>\n",
       "      <th>Other_Income</th>\n",
       "      <th>Overtime</th>\n",
       "      <th>Retirement</th>\n",
       "      <th>Other_Benefits</th>\n",
       "      <th>Year_2016</th>\n",
       "      <th>Year_2017</th>\n",
       "      <th>Year_2018</th>\n",
       "      <th>Other_Income*Other_Benefits</th>\n",
       "    </tr>\n",
       "  </thead>\n",
       "  <tbody>\n",
       "    <tr>\n",
       "      <th>0</th>\n",
       "      <td>-0.476483</td>\n",
       "      <td>-0.234449</td>\n",
       "      <td>1.173963</td>\n",
       "      <td>1.141794</td>\n",
       "      <td>0</td>\n",
       "      <td>0</td>\n",
       "      <td>0</td>\n",
       "      <td>-0.544046</td>\n",
       "    </tr>\n",
       "    <tr>\n",
       "      <th>1</th>\n",
       "      <td>-0.588280</td>\n",
       "      <td>-0.175594</td>\n",
       "      <td>-1.186975</td>\n",
       "      <td>-1.269380</td>\n",
       "      <td>0</td>\n",
       "      <td>0</td>\n",
       "      <td>0</td>\n",
       "      <td>0.746751</td>\n",
       "    </tr>\n",
       "    <tr>\n",
       "      <th>3</th>\n",
       "      <td>0.091140</td>\n",
       "      <td>-0.431752</td>\n",
       "      <td>-0.037175</td>\n",
       "      <td>-0.043455</td>\n",
       "      <td>0</td>\n",
       "      <td>0</td>\n",
       "      <td>1</td>\n",
       "      <td>-0.003960</td>\n",
       "    </tr>\n",
       "    <tr>\n",
       "      <th>4</th>\n",
       "      <td>-0.588280</td>\n",
       "      <td>-0.429539</td>\n",
       "      <td>-0.318044</td>\n",
       "      <td>-0.263806</td>\n",
       "      <td>0</td>\n",
       "      <td>1</td>\n",
       "      <td>0</td>\n",
       "      <td>0.155192</td>\n",
       "    </tr>\n",
       "    <tr>\n",
       "      <th>5</th>\n",
       "      <td>0.015083</td>\n",
       "      <td>-0.431014</td>\n",
       "      <td>0.506980</td>\n",
       "      <td>0.698624</td>\n",
       "      <td>0</td>\n",
       "      <td>1</td>\n",
       "      <td>0</td>\n",
       "      <td>0.010538</td>\n",
       "    </tr>\n",
       "  </tbody>\n",
       "</table>\n",
       "</div>"
      ],
      "text/plain": [
       "   Other_Income  Overtime  Retirement  Other_Benefits  Year_2016  Year_2017  \\\n",
       "0     -0.476483 -0.234449    1.173963        1.141794          0          0   \n",
       "1     -0.588280 -0.175594   -1.186975       -1.269380          0          0   \n",
       "3      0.091140 -0.431752   -0.037175       -0.043455          0          0   \n",
       "4     -0.588280 -0.429539   -0.318044       -0.263806          0          1   \n",
       "5      0.015083 -0.431014    0.506980        0.698624          0          1   \n",
       "\n",
       "   Year_2018  Other_Income*Other_Benefits  \n",
       "0          0                    -0.544046  \n",
       "1          0                     0.746751  \n",
       "3          1                    -0.003960  \n",
       "4          0                     0.155192  \n",
       "5          0                     0.010538  "
      ]
     },
     "execution_count": 62,
     "metadata": {},
     "output_type": "execute_result"
    }
   ],
   "source": [
    "df_interaction = df_reimb_dummy.copy()\n",
    "df_interaction = df_interaction.drop(['Type_of_yr_Financial'], axis = 1)\n",
    "\n",
    "# add the interaction variable in the original data\n",
    "df_interaction['Other_Income*Other_Benefits'] = df_interaction['Other_Income']*df_interaction['Other_Benefits'] \n",
    "\n",
    "# print the data with interaction\n",
    "df_interaction.head()"
   ]
  },
  {
   "cell_type": "markdown",
   "metadata": {},
   "source": [
    "We build a multiple linear regression model considering all the significant variables and the interaction variable."
   ]
  },
  {
   "cell_type": "markdown",
   "metadata": {},
   "source": [
    "**Split the data into training and test sets.**"
   ]
  },
  {
   "cell_type": "code",
   "execution_count": 63,
   "metadata": {},
   "outputs": [
    {
     "name": "stdout",
     "output_type": "stream",
     "text": [
      "X_train_inter (26320, 9)\n",
      "y_train_inter (26320,)\n",
      "X_test_inter (11281, 9)\n",
      "y_test_inter (11281,)\n"
     ]
    }
   ],
   "source": [
    "# set of independent variables\n",
    "# create a copy of 'df_num' and store in the dataframe 'X_inter'\n",
    "X_inter = df_interaction.copy()\n",
    "\n",
    "# dependent variable\n",
    "# create a copy of 'df_target' and store in the dataframe 'y_inter'\n",
    "y_inter = df_target.copy()\n",
    "\n",
    "# to estimate the regression coefficient, a constant term of '1' needs to be added as a separate column\n",
    "# 'sm.add_constant' adds the intercept to the model\n",
    "X_inter = sm.add_constant(X_inter)\n",
    "\n",
    "# split data into train subset and test subset\n",
    "# set 'random_state' to generate the same dataset each time you run the code \n",
    "# 'test_size' returns the proportion of data to be included in the testing set\n",
    "X_train_inter, X_test_inter, y_train_inter, y_test_inter = train_test_split(X_inter, y_inter, random_state=1, test_size = 0.3)\n",
    "\n",
    "# checking the dimensions of the train & test subset\n",
    "# print dimension of train set\n",
    "print('X_train_inter', X_train_inter.shape)\n",
    "print('y_train_inter', y_train_inter.shape)\n",
    "\n",
    "# print dimension of test set\n",
    "print('X_test_inter', X_test_inter.shape)\n",
    "print('y_test_inter', y_test_inter.shape)"
   ]
  },
  {
   "cell_type": "markdown",
   "metadata": {},
   "source": [
    "**Build the model using OLS method.**"
   ]
  },
  {
   "cell_type": "code",
   "execution_count": 64,
   "metadata": {},
   "outputs": [
    {
     "name": "stdout",
     "output_type": "stream",
     "text": [
      "                             OLS Regression Results                            \n",
      "===============================================================================\n",
      "Dep. Variable:     Total_Reimbursement   R-squared:                       0.963\n",
      "Model:                             OLS   Adj. R-squared:                  0.963\n",
      "Method:                  Least Squares   F-statistic:                 8.649e+04\n",
      "Date:                 Fri, 16 Oct 2020   Prob (F-statistic):               0.00\n",
      "Time:                         15:59:00   Log-Likelihood:                 6142.3\n",
      "No. Observations:                26320   AIC:                        -1.227e+04\n",
      "Df Residuals:                    26311   BIC:                        -1.219e+04\n",
      "Df Model:                            8                                         \n",
      "Covariance Type:             nonrobust                                         \n",
      "===============================================================================================\n",
      "                                  coef    std err          t      P>|t|      [0.025      0.975]\n",
      "-----------------------------------------------------------------------------------------------\n",
      "const                          -0.0328      0.002    -14.826      0.000      -0.037      -0.028\n",
      "Other_Income                    0.0740      0.001     53.999      0.000       0.071       0.077\n",
      "Overtime                        0.0135      0.001     10.833      0.000       0.011       0.016\n",
      "Retirement                      0.7307      0.003    291.412      0.000       0.726       0.736\n",
      "Other_Benefits                  0.2492      0.002    104.823      0.000       0.245       0.254\n",
      "Year_2016                       0.1064      0.004     28.140      0.000       0.099       0.114\n",
      "Year_2017                       0.0929      0.003     29.344      0.000       0.087       0.099\n",
      "Year_2018                       0.0007      0.003      0.232      0.816      -0.005       0.007\n",
      "Other_Income*Other_Benefits    -0.0455      0.001    -36.428      0.000      -0.048      -0.043\n",
      "==============================================================================\n",
      "Omnibus:                    12368.490   Durbin-Watson:                   1.972\n",
      "Prob(Omnibus):                  0.000   Jarque-Bera (JB):           901803.436\n",
      "Skew:                           1.407   Prob(JB):                         0.00\n",
      "Kurtosis:                      31.538   Cond. No.                         6.06\n",
      "==============================================================================\n",
      "\n",
      "Warnings:\n",
      "[1] Standard Errors assume that the covariance matrix of the errors is correctly specified.\n"
     ]
    }
   ],
   "source": [
    "# build a model on training dataset\n",
    "# 'sm.add_constant' adds the intercept to the model\n",
    "# fit() is used to fit the OLS model\n",
    "MLR_model_with_interaction = sm.OLS(y_train_inter, X_train_inter).fit()\n",
    "\n",
    "# print the summary output\n",
    "print(MLR_model_with_interaction.summary())"
   ]
  },
  {
   "cell_type": "markdown",
   "metadata": {},
   "source": [
    "**Interpretation:** The model with the interaction variable explains a 96.3% variation in the target variable. Thus, adding the interaction effect to the model with significant variabels increased the R-squared from 0.962 to 0.963.\n",
    "\n",
    "The `Durbin-Watson` test is used to check the autocorrelation between the residuals.\n",
    "\n",
    "If the Durbin-Watson test statistic is near to 2: no autocorrelation<br>\n",
    "If the Durbin-Watson test statistic is between 0 and 2: positive autocorrelation <br>\n",
    "If the Durbin-Watson test statistic is between 2 and 4: negative autocorrelation\n",
    "\n",
    "The summary output shows that the value of the test statistic is near to 2 (=1.972) which means there is no autocorrelation.\n",
    "\n",
    "The `Jarque-Bera` test is used to check the normality of the residuals. Here, the p-value of the test is less than 0.05; that implies the residuals are not normally distributed.\n",
    "\n",
    "The 'Cond. No' (6.06) represents the `Condition Number (CN)` which is used to check the multicollinearity. \n",
    "\n",
    "If CN < 100: no multicollinearity<br>\n",
    "If CN is between 100 and 1000: moderate multicollinearity<br>\n",
    "If CN > 1000: severe multicollinearity\n",
    "\n",
    "Thus, it can be seen that there is severe multicollinearity in the data."
   ]
  },
  {
   "cell_type": "markdown",
   "metadata": {},
   "source": [
    "#### Predict the Total_Reimbursement using X_test_inter"
   ]
  },
  {
   "cell_type": "code",
   "execution_count": 65,
   "metadata": {},
   "outputs": [],
   "source": [
    "y_pred_inter = MLR_model_with_interaction.predict(X_test_inter)"
   ]
  },
  {
   "cell_type": "markdown",
   "metadata": {},
   "source": [
    "<a id=\"assum\"></a>\n",
    "## 5.3 Assumptions After MLR Model"
   ]
  },
  {
   "cell_type": "markdown",
   "metadata": {},
   "source": [
    "Now, use the model with significant variabels to check some of the assumptions based on the residuals of linear regression:\n",
    "1. Linear Relationship Between Dependent and Independent Variable\n",
    "2. Autocorrelation\n",
    "3. Heteroscedasticity\n",
    "4. Tests of Normality "
   ]
  },
  {
   "cell_type": "markdown",
   "metadata": {},
   "source": [
    "<a id=\"linear_reln\"></a>\n",
    "### 5.3.1 Linear Relationship between Dependent and Independent Variable"
   ]
  },
  {
   "cell_type": "markdown",
   "metadata": {},
   "source": [
    "An assumption of linear regression is that it should be linear in the parameter. To check the linearity we plot a graph of residuals and each independent variable. If the plot shows no specific pattern then we can conclude the presence of linearity."
   ]
  },
  {
   "cell_type": "code",
   "execution_count": 66,
   "metadata": {
    "scrolled": false
   },
   "outputs": [
    {
     "data": {
      "image/png": "[encoded data removed]",
      "text/plain": [
       "<Figure size 1440x1080 with 4 Axes>"
      ]
     },
     "metadata": {
      "needs_background": "light"
     },
     "output_type": "display_data"
    }
   ],
   "source": [
    "# create subplots of scatter plots\n",
    "# pass the number of rows in a subplot to 'nrows'\n",
    "# pass the number of columns in a subplot to 'ncolumns'\n",
    "# set plot size using 'figsize'\n",
    "fig, ax = plt.subplots(nrows = 2, ncols= 2, figsize=(20, 15))\n",
    "\n",
    "# use for loop to create scatter plot for residuals and each independent variable (do not consider the intercept)\n",
    "# 'ax' assigns axes object to draw the plot onto \n",
    "for variable, subplot in zip(X_train_signi_var.columns[1:5], ax.flatten()):\n",
    "    sns.scatterplot(X_train_signi_var[variable], MLR_model_with_significant_var.resid , ax=subplot)\n",
    "\n",
    "# display the plot\n",
    "plt.show()"
   ]
  },
  {
   "cell_type": "markdown",
   "metadata": {},
   "source": [
    "**Interpretation:** The above plots show no specific pattern, implies that there is a linearity present in the data."
   ]
  },
  {
   "cell_type": "markdown",
   "metadata": {},
   "source": [
    "<a id=\"auto\"></a>\n",
    "### 5.3.2 Autocorrelation"
   ]
  },
  {
   "cell_type": "markdown",
   "metadata": {},
   "source": [
    "We can check the correlation between the residuals using the `Durbin-Watson` test. The value of the test statistic ranges from 0 to 4. The test statistic value near to 2, represents no autocorrelation. The value of the test statistic between 0 and 2 implies positive autocorrelation and the value between 2 and 4 implies negative autocorrelation.\n",
    "\n",
    "Print the summary of the model with significant variables to check the autocorrelation."
   ]
  },
  {
   "cell_type": "code",
   "execution_count": 67,
   "metadata": {},
   "outputs": [
    {
     "name": "stdout",
     "output_type": "stream",
     "text": [
      "                             OLS Regression Results                            \n",
      "===============================================================================\n",
      "Dep. Variable:     Total_Reimbursement   R-squared:                       0.962\n",
      "Model:                             OLS   Adj. R-squared:                  0.962\n",
      "Method:                  Least Squares   F-statistic:                 9.392e+04\n",
      "Date:                 Fri, 16 Oct 2020   Prob (F-statistic):               0.00\n",
      "Time:                         15:59:00   Log-Likelihood:                 5494.8\n",
      "No. Observations:                26320   AIC:                        -1.097e+04\n",
      "Df Residuals:                    26312   BIC:                        -1.091e+04\n",
      "Df Model:                            7                                         \n",
      "Covariance Type:             nonrobust                                         \n",
      "==================================================================================\n",
      "                     coef    std err          t      P>|t|      [0.025      0.975]\n",
      "----------------------------------------------------------------------------------\n",
      "const             -0.0444      0.002    -19.797      0.000      -0.049      -0.040\n",
      "Other_Income       0.0563      0.001     42.860      0.000       0.054       0.059\n",
      "Overtime           0.0161      0.001     12.691      0.000       0.014       0.019\n",
      "Retirement         0.7582      0.002    309.332      0.000       0.753       0.763\n",
      "Other_Benefits     0.2300      0.002     96.798      0.000       0.225       0.235\n",
      "Year_2016          0.1125      0.004     29.036      0.000       0.105       0.120\n",
      "Year_2017          0.0989      0.003     30.512      0.000       0.093       0.105\n",
      "Year_2018          0.0019      0.003      0.597      0.551      -0.004       0.008\n",
      "==============================================================================\n",
      "Omnibus:                    12762.143   Durbin-Watson:                   1.965\n",
      "Prob(Omnibus):                  0.000   Jarque-Bera (JB):           939475.220\n",
      "Skew:                           1.479   Prob(JB):                         0.00\n",
      "Kurtosis:                      32.119   Cond. No.                         6.03\n",
      "==============================================================================\n",
      "\n",
      "Warnings:\n",
      "[1] Standard Errors assume that the covariance matrix of the errors is correctly specified.\n"
     ]
    }
   ],
   "source": [
    "# print the model summary\n",
    "print(MLR_model_with_significant_var.summary())"
   ]
  },
  {
   "cell_type": "markdown",
   "metadata": {},
   "source": [
    "**Interpretation:** From the above summary, we can observe that the value obtained from the `Durbin-Watson` test statistic is close to 2 (= 1.965). Thus, we conclude that there is no autocorrelation."
   ]
  },
  {
   "cell_type": "markdown",
   "metadata": {},
   "source": [
    "<a id=\"sked\"></a>\n",
    "### 5.3.3 Heteroskedasticity"
   ]
  },
  {
   "cell_type": "markdown",
   "metadata": {},
   "source": [
    "If the residuals have constant variance across different values of the predicted values, then it is known as `Homoskedasticity`. The absence of homoskedasticity is known as, heteroskedasticity. One of the assumptions of linear regression is that heteroskedasticity should not be present. Let us study two different tests to check the presence of  heteroskedasticity."
   ]
  },
  {
   "cell_type": "markdown",
   "metadata": {},
   "source": [
    "Breusch-Pagan is one of the tests for detecting heteroskedasticity in the residuals.<br>\n",
    "The test hypothesis for the Breusch-Pagan test is given as:\n",
    "<p style='text-indent:25em'> <strong> H<sub>o</sub>:  There is homoscedasticity present in the data </strong> </p>\n",
    "<p style='text-indent:25em'> <strong> H<sub>1</sub>:  There is a heteroscedasticity present in the data </strong> </p>"
   ]
  },
  {
   "cell_type": "code",
   "execution_count": 68,
   "metadata": {},
   "outputs": [
    {
     "data": {
      "text/plain": [
       "[('f-value', 92.09052954865287), ('p-value', 2.711234115975642e-133)]"
      ]
     },
     "execution_count": 68,
     "metadata": {},
     "output_type": "execute_result"
    }
   ],
   "source": [
    "# create vector of result parmeters\n",
    "name = ['f-value','p-value']\n",
    "\n",
    "# perform Breusch-Pagan test using residuals and independent variables\n",
    "# compute residuals using 'resid'\n",
    "# 'exog' returns the independent variables in the model alng with the intercept\n",
    "test = sms.het_breuschpagan(MLR_model_with_significant_var.resid, MLR_model_with_significant_var.model.exog)\n",
    "\n",
    "# print the output\n",
    "# use 'lzip' to zip the column names and test results\n",
    "# use 'test[2:]' to retrieve the F-statistic and its corresponding p-value \n",
    "lzip(name, test[2:])"
   ]
  },
  {
   "cell_type": "markdown",
   "metadata": {},
   "source": [
    "**Interpretation:** We observe that the p-value is less than 0.05; thus, we conclude that there is heteroskedasticity present in the data."
   ]
  },
  {
   "cell_type": "markdown",
   "metadata": {},
   "source": [
    "<a id=\"normality\"></a>\n",
    "### 5.3.4 Tests for Normality"
   ]
  },
  {
   "cell_type": "markdown",
   "metadata": {},
   "source": [
    "As per the assumptions of linear regression, residuals should be normally distributed. If the target variable is normally distributed then the residuals are also normally distributed, thus we check the normality only for the target variable."
   ]
  },
  {
   "cell_type": "markdown",
   "metadata": {},
   "source": [
    "<a id=\"qq\"></a>\n",
    "#### 1. Q-Q Plot"
   ]
  },
  {
   "cell_type": "markdown",
   "metadata": {},
   "source": [
    "Q-Q plot is s visualization technique to check the normality of the residuals. It plots the quantiles of observed data versus the quantiles of the standard normal distribution."
   ]
  },
  {
   "cell_type": "code",
   "execution_count": 69,
   "metadata": {
    "scrolled": false
   },
   "outputs": [
    {
     "data": {
      "image/png": "[encoded data removed]",
      "text/plain": [
       "<Figure size 1080x576 with 1 Axes>"
      ]
     },
     "metadata": {
      "needs_background": "light"
     },
     "output_type": "display_data"
    }
   ],
   "source": [
    "# set the plot size using 'rcParams'\n",
    "# once the plot size is set using 'rcParams', it sets the size of all the forthcoming plots in the file\n",
    "# pass width and height in inches to 'figure.figsize' \n",
    "plt.rcParams['figure.figsize'] = [15,8]\n",
    "\n",
    "# plot the Q-Q plot\n",
    "# 'r' represents the regression line\n",
    "qqplot(MLR_model_with_significant_var.resid, line = 'r')\n",
    "\n",
    "# set plot and axes labels\n",
    "# set text size using 'fontsize'\n",
    "plt.title('Q-Q Plot', fontsize = 15)\n",
    "plt.xlabel('Theoretical Quantiles', fontsize = 15)\n",
    "plt.ylabel('Sample Quantiles', fontsize = 15)\n",
    "\n",
    "# display the plot\n",
    "plt.show()"
   ]
  },
  {
   "cell_type": "markdown",
   "metadata": {},
   "source": [
    "**Interpretation:** The diagonal line (red line) is the regression line and the blue points are the cumulative distribution of the residuals. As some of the points are away from the diagonal line, we conclude that the residuals do not follow a `normal distribution`."
   ]
  },
  {
   "cell_type": "markdown",
   "metadata": {},
   "source": [
    "<a id=\"SWT\"></a>\n",
    "#### 2. Shapiro Wilk Test"
   ]
  },
  {
   "cell_type": "markdown",
   "metadata": {},
   "source": [
    "The Shapiro Wilk test is used to check the normality of the residuals. The test hypothesis is given as:<br>\n",
    "\n",
    "<p style='text-indent:25em'> <strong> H<sub>o</sub>:  Residuals are normally distributed </strong> </p>\n",
    "<p style='text-indent:25em'> <strong> H<sub>1</sub>:  Residuals are not normally distributed </strong> </p>"
   ]
  },
  {
   "cell_type": "code",
   "execution_count": 70,
   "metadata": {},
   "outputs": [
    {
     "name": "stdout",
     "output_type": "stream",
     "text": [
      "Test statistic: 0.7611103057861328\n",
      "P-Value: 0.0\n"
     ]
    }
   ],
   "source": [
    "# perform Shapiro Wilk test using 'shapiro()' from scipy library\n",
    "# shapiro() returns a tuple having the values of test statistics and the corresponding p-value\n",
    "# 'resid' returns the residuals in the model\n",
    "# pass the residuals to 'shapiro()'\n",
    "stat, p_value = shapiro(MLR_model_with_significant_var.resid)\n",
    "\n",
    "# print the test statistic and corresponding p-value \n",
    "print('Test statistic:', stat)\n",
    "print('P-Value:', p_value)"
   ]
  },
  {
   "cell_type": "markdown",
   "metadata": {},
   "source": [
    "**Interpretation:** From the above test we can see that the p-value is 0.0 (less than 0.05), thus we can say that the residuals are not normally distributed."
   ]
  },
  {
   "cell_type": "markdown",
   "metadata": {},
   "source": [
    "<a id=\"eval\"></a>\n",
    "# 6. Model Evaluation"
   ]
  },
  {
   "cell_type": "markdown",
   "metadata": {},
   "source": [
    "In this section, we evaluate the model containing significant variables. \n",
    "\n",
    "Let us print the summary of the multiple regression model."
   ]
  },
  {
   "cell_type": "code",
   "execution_count": 71,
   "metadata": {},
   "outputs": [
    {
     "name": "stdout",
     "output_type": "stream",
     "text": [
      "                             OLS Regression Results                            \n",
      "===============================================================================\n",
      "Dep. Variable:     Total_Reimbursement   R-squared:                       0.962\n",
      "Model:                             OLS   Adj. R-squared:                  0.962\n",
      "Method:                  Least Squares   F-statistic:                 9.392e+04\n",
      "Date:                 Fri, 16 Oct 2020   Prob (F-statistic):               0.00\n",
      "Time:                         15:59:00   Log-Likelihood:                 5494.8\n",
      "No. Observations:                26320   AIC:                        -1.097e+04\n",
      "Df Residuals:                    26312   BIC:                        -1.091e+04\n",
      "Df Model:                            7                                         \n",
      "Covariance Type:             nonrobust                                         \n",
      "==================================================================================\n",
      "                     coef    std err          t      P>|t|      [0.025      0.975]\n",
      "----------------------------------------------------------------------------------\n",
      "const             -0.0444      0.002    -19.797      0.000      -0.049      -0.040\n",
      "Other_Income       0.0563      0.001     42.860      0.000       0.054       0.059\n",
      "Overtime           0.0161      0.001     12.691      0.000       0.014       0.019\n",
      "Retirement         0.7582      0.002    309.332      0.000       0.753       0.763\n",
      "Other_Benefits     0.2300      0.002     96.798      0.000       0.225       0.235\n",
      "Year_2016          0.1125      0.004     29.036      0.000       0.105       0.120\n",
      "Year_2017          0.0989      0.003     30.512      0.000       0.093       0.105\n",
      "Year_2018          0.0019      0.003      0.597      0.551      -0.004       0.008\n",
      "==============================================================================\n",
      "Omnibus:                    12762.143   Durbin-Watson:                   1.965\n",
      "Prob(Omnibus):                  0.000   Jarque-Bera (JB):           939475.220\n",
      "Skew:                           1.479   Prob(JB):                         0.00\n",
      "Kurtosis:                      32.119   Cond. No.                         6.03\n",
      "==============================================================================\n",
      "\n",
      "Warnings:\n",
      "[1] Standard Errors assume that the covariance matrix of the errors is correctly specified.\n"
     ]
    }
   ],
   "source": [
    "# print the model summary\n",
    "print(MLR_model_with_significant_var.summary())"
   ]
  },
  {
   "cell_type": "markdown",
   "metadata": {},
   "source": [
    "<a id=\"R_squared\"></a>\n",
    "## 6.1 R-Squared"
   ]
  },
  {
   "cell_type": "markdown",
   "metadata": {},
   "source": [
    "The coefficient of determination explains the percentage of variation in the dependent variable that the independent variables explain collectively."
   ]
  },
  {
   "cell_type": "code",
   "execution_count": 72,
   "metadata": {},
   "outputs": [
    {
     "data": {
      "text/plain": [
       "0.9615185828120318"
      ]
     },
     "execution_count": 72,
     "metadata": {},
     "output_type": "execute_result"
    }
   ],
   "source": [
    "# calculate R-Squared on train dataset\n",
    "# use 'rsquared' from statsmodel\n",
    "r_sq_mlr = MLR_model_with_significant_var.rsquared\n",
    "\n",
    "# print the value\n",
    "r_sq_mlr"
   ]
  },
  {
   "cell_type": "markdown",
   "metadata": {},
   "source": [
    "**Interpretation:** The value of R-squared is 0.963. Thus, we conclude that the 96.3% variation in the Total_Reimbursement is explained by the model. We can also obtain this value from the summary of the model."
   ]
  },
  {
   "cell_type": "markdown",
   "metadata": {},
   "source": [
    "<a id=\"Adj_R_test\"></a>\n",
    "## 6.2 Adjusted R-Squared"
   ]
  },
  {
   "cell_type": "markdown",
   "metadata": {},
   "source": [
    "It explains the percentage of variation by the independent variables that affect the target variable. The value of adjusted R-squared is always less than R-squared. "
   ]
  },
  {
   "cell_type": "code",
   "execution_count": 73,
   "metadata": {},
   "outputs": [
    {
     "data": {
      "text/plain": [
       "0.9615083452808554"
      ]
     },
     "execution_count": 73,
     "metadata": {},
     "output_type": "execute_result"
    }
   ],
   "source": [
    "# calculate adjusted R-Squared on train dataset\n",
    "# use 'rsquared_adj' from statsmodel\n",
    "adj_r_sq = MLR_model_with_significant_var.rsquared_adj\n",
    "\n",
    "# print the value\n",
    "adj_r_sq"
   ]
  },
  {
   "cell_type": "markdown",
   "metadata": {},
   "source": [
    "Now, we can also calculate the adjusted R-Squared value using the formula **1 - (((1 - R-Squared) * (n - 1)) / (n - k - 1))**.\n",
    "\n",
    "Where,<br>k: Number of beta coefficients <br>\n",
    "n: Total number of observations"
   ]
  },
  {
   "cell_type": "code",
   "execution_count": 74,
   "metadata": {},
   "outputs": [
    {
     "data": {
      "text/plain": [
       "0.9615068823317193"
      ]
     },
     "execution_count": 74,
     "metadata": {},
     "output_type": "execute_result"
    }
   ],
   "source": [
    "# calculate adjusted R-Squared on train dataset using the formula\n",
    "# 'n' denotes total number of observations\n",
    "n = len(X_train_signi_var)\n",
    "\n",
    "# 'k' denotes number of predictors (including the intercept)\n",
    "k = len(X_train_signi_var.columns)\n",
    "\n",
    "# calculate adjusted R-squared\n",
    "# 'r_sq_mlr' represents the R-Squared value\n",
    "adj_r_sq = 1 - (((1 - r_sq_mlr) * (n - 1)) / (n - k - 1))\n",
    "\n",
    "# print the value\n",
    "adj_r_sq"
   ]
  },
  {
   "cell_type": "markdown",
   "metadata": {},
   "source": [
    "**Interpretation:** We can see that the value of adjusted R-squared calculated using the formula and the one obtained from the model are nearly same. We can also obtain this value from the summary of the model."
   ]
  },
  {
   "cell_type": "markdown",
   "metadata": {},
   "source": [
    "<a id=\"overall\"></a>\n",
    "## 6.3 Overall F-Test & p-value of the Model"
   ]
  },
  {
   "cell_type": "markdown",
   "metadata": {},
   "source": [
    "F-test is used to checking whether the overall regression model is statistically significant or not. The F-statistic is given as:\n",
    "\n",
    "<p style = 'text-indent:25em'> <strong> f_value = (R-squared / (k-1)) / ((1- R-squared) / n - k) </strong>  </p>\n",
    "\n",
    "Where, \n",
    "\n",
    "k: Number of beta coefficients <br>\n",
    "n: Total number of observations\n",
    "\n",
    "The test hypothesis for F-test is given as:\n",
    "<p style='text-indent:25em'> <strong> H<sub>o</sub>: All β's are equal to zero </strong> (i.e. regression model is not significant) </p>\n",
    "<p style='text-indent:25em'> <strong> H<sub>1</sub>: At least one β is not equal to zero </strong> (i.e. regression model is significant) </p>\n"
   ]
  },
  {
   "cell_type": "code",
   "execution_count": 75,
   "metadata": {},
   "outputs": [
    {
     "data": {
      "text/plain": [
       "93920.94307074857"
      ]
     },
     "execution_count": 75,
     "metadata": {},
     "output_type": "execute_result"
    }
   ],
   "source": [
    "# compute f_value using the below formula \n",
    "# f_value = (r_sq / k-1)/((1- r_sq)/n-k)\n",
    "\n",
    "# k = number of beta coefficients\n",
    "k = len(X_train_signi_var.columns)\n",
    "\n",
    "# n = number of observations\n",
    "n = len(X_train_signi_var)\n",
    "\n",
    "# calculate value of F-statistic\n",
    "# 'r_sq_mlr' represents the R-Squared value\n",
    "f_value = (r_sq_mlr / (k - 1))/((1-r_sq_mlr)/(n - k))\n",
    "\n",
    "# print the value\n",
    "f_value"
   ]
  },
  {
   "cell_type": "markdown",
   "metadata": {},
   "source": [
    "We can also obtain this value from the summary of the model.\n",
    "\n",
    "Now, calculate the corresponding p-value for F-statistic. "
   ]
  },
  {
   "cell_type": "code",
   "execution_count": 76,
   "metadata": {
    "scrolled": false
   },
   "outputs": [
    {
     "data": {
      "text/plain": [
       "0.0"
      ]
     },
     "execution_count": 76,
     "metadata": {},
     "output_type": "execute_result"
    }
   ],
   "source": [
    "# calculate p-value for F-statistic\n",
    "# use 'sf' (Survival function) from f-distribution to calculate the corresponding p-value\n",
    "\n",
    "# degrees of freedom \n",
    "# dfn = k-1 = 6-1 = 5\n",
    "# dfd = n-k = 1043-5 = 1038\n",
    "p_val = stats.f.sf(f_value, dfn = 5, dfd = 1038)\n",
    "\n",
    "# print the value\n",
    "p_val"
   ]
  },
  {
   "cell_type": "markdown",
   "metadata": {},
   "source": [
    "**Interpretation:** As, the p-value is less than 0.05, we accept the alternate hypothesis; i.e. the model is significant."
   ]
  },
  {
   "cell_type": "markdown",
   "metadata": {},
   "source": [
    "<a id=\"ml_perf\"></a>\n",
    "# 7. Model Performance"
   ]
  },
  {
   "cell_type": "markdown",
   "metadata": {},
   "source": [
    "#### Let us do some predictions using the train and test dataset."
   ]
  },
  {
   "cell_type": "code",
   "execution_count": 77,
   "metadata": {},
   "outputs": [],
   "source": [
    "# For training set:\n",
    "# train_pred: prediction made by the model on the training dataset 'X_train_signi_var'\n",
    "# y_train_signi_var: actual values of the target variable for the train dataset\n",
    "\n",
    "# For testing set:\n",
    "# test_pred: prediction made by the model on the test dataset 'X_test_signi_var'\n",
    "# y_test_signi_var: actual values of the target variable for the test dataset\n",
    "\n",
    "# predict the output of the target variable from the train data \n",
    "# train_pred can also be obtained from \"MLR_model_with_significant_var.fittedvalues\"\n",
    "train_pred = MLR_model_with_significant_var.predict(X_train_signi_var)\n",
    "\n",
    "# predict the output of the target variable from the test data\n",
    "test_pred = MLR_model_with_significant_var.predict(X_test_signi_var)"
   ]
  },
  {
   "cell_type": "markdown",
   "metadata": {},
   "source": [
    "<a id=\"mse\"></a>\n",
    "## 7.1 Mean Squared Error (MSE)"
   ]
  },
  {
   "cell_type": "markdown",
   "metadata": {},
   "source": [
    "It is defined as the average squared difference between the actual and predicted values."
   ]
  },
  {
   "cell_type": "code",
   "execution_count": 78,
   "metadata": {},
   "outputs": [
    {
     "name": "stdout",
     "output_type": "stream",
     "text": [
      "Mean Squared Error (MSE) on training set:  0.0386\n",
      "Mean Squared Error (MSE) on test set:  0.0369\n"
     ]
    }
   ],
   "source": [
    "# calculate the MSE using the \"mean_squared_error\" function\n",
    "\n",
    "# calculate the MSE for the train data\n",
    "# round the value upto 4 digits using 'round()'\n",
    "mse_train = round(mean_squared_error(y_train_signi_var, train_pred),4)\n",
    "\n",
    "# print the MSE for the training set\n",
    "print(\"Mean Squared Error (MSE) on training set: \", mse_train)\n",
    "\n",
    "# calculate the MSE for the test data\n",
    "# round the value upto 4 digits using 'round()'\n",
    "mse_test = round(mean_squared_error(y_test_signi_var, test_pred),4)\n",
    "\n",
    "# print the MSE for the test set\n",
    "print(\"Mean Squared Error (MSE) on test set: \", mse_test)"
   ]
  },
  {
   "cell_type": "markdown",
   "metadata": {},
   "source": [
    "<a id=\"rmse\"></a>\n",
    "## 7.2 Root Mean Squared Error (RMSE)"
   ]
  },
  {
   "cell_type": "markdown",
   "metadata": {},
   "source": [
    "It is defined as the square root of MSE. Lower the value of RMSE, better is the fit of the regression line."
   ]
  },
  {
   "cell_type": "code",
   "execution_count": 79,
   "metadata": {},
   "outputs": [
    {
     "name": "stdout",
     "output_type": "stream",
     "text": [
      "Root Mean Squared Error (RMSE) on training set:  0.1964\n",
      "Root Mean Squared Error (RMSE) on test set:  0.192\n"
     ]
    }
   ],
   "source": [
    "# calculate the MSE using the \"mean_squared_error\" function\n",
    "\n",
    "# MSE for the train data\n",
    "mse_train = mean_squared_error(y_train_signi_var, train_pred)\n",
    "\n",
    "# take the square root of the MSE to calculate the RMSE\n",
    "# round the value upto 4 digits using 'round()'\n",
    "rmse_train = round(np.sqrt(mse_train), 4)\n",
    "\n",
    "# print the RMSE for the train set\n",
    "print(\"Root Mean Squared Error (RMSE) on training set: \", rmse_train)\n",
    "\n",
    "# MSE for the test data\n",
    "mse_test = mean_squared_error(y_test_signi_var, test_pred)\n",
    "\n",
    "# take the square root of the MSE to calculate the RMSE\n",
    "# round the value upto 4 digits using 'round()'\n",
    "rmse_test = round(np.sqrt(mse_test), 4)\n",
    "\n",
    "# print the RMSE for the test set\n",
    "print(\"Root Mean Squared Error (RMSE) on test set: \", rmse_test)"
   ]
  },
  {
   "cell_type": "markdown",
   "metadata": {},
   "source": [
    "<a id=\"mae\"></a>\n",
    "## 7.3 Mean Absolute Error (MAE)"
   ]
  },
  {
   "cell_type": "markdown",
   "metadata": {},
   "source": [
    "It is defined as the average of the absolute difference between the actual and predicted values."
   ]
  },
  {
   "cell_type": "code",
   "execution_count": 80,
   "metadata": {},
   "outputs": [
    {
     "name": "stdout",
     "output_type": "stream",
     "text": [
      "Mean Absolute Error (MAE) on training set:  0.1159\n",
      "Mean Absolute Error (MAE) on test set:  0.1161\n"
     ]
    }
   ],
   "source": [
    "# calculate the MAE using the \"mean_absolute_error\" function\n",
    "\n",
    "# calculate the MAE for the train data\n",
    "# round the value upto 4 digits using 'round()'\n",
    "mae_train = round(mean_absolute_error(y_train_signi_var, train_pred),4)\n",
    "\n",
    "# print the MAE for the training set\n",
    "print(\"Mean Absolute Error (MAE) on training set: \", mae_train)\n",
    "\n",
    "# calculate the MAE for the test data\n",
    "# round the value upto 4 digits using 'round()'\n",
    "mae_test = round(mean_absolute_error(y_test_signi_var, test_pred),4)\n",
    "\n",
    "# print the MAE for the test set\n",
    "print(\"Mean Absolute Error (MAE) on test set: \", mae_test)"
   ]
  },
  {
   "cell_type": "markdown",
   "metadata": {},
   "source": [
    "<a id=\"mape\"></a>\n",
    "## 7.4 Mean Absolute Percentage Error (MAPE)"
   ]
  },
  {
   "cell_type": "markdown",
   "metadata": {},
   "source": [
    "It is used to measure the accuracy of the model as a percentage. We define a function to calculate MAPE for training and test dataset."
   ]
  },
  {
   "cell_type": "code",
   "execution_count": 81,
   "metadata": {},
   "outputs": [],
   "source": [
    "# define a function to calculate MAPE\n",
    "# pass the actual and predicted values as input to the function\n",
    "# return the calculated MAPE \n",
    "def mape(actual, predicted):\n",
    "    return (np.mean(np.abs((actual - predicted) / actual)) * 100)"
   ]
  },
  {
   "cell_type": "code",
   "execution_count": 82,
   "metadata": {
    "scrolled": true
   },
   "outputs": [
    {
     "name": "stdout",
     "output_type": "stream",
     "text": [
      "Mean Absolute Percentage Error (MAPE) on training set:  166.5083\n",
      "Mean Absolute Percentage Error (MAPE) on test set:  48.902\n"
     ]
    }
   ],
   "source": [
    "# calculate the mape using the \"mape()\" function created above\n",
    "\n",
    "# calculate the MAPE for the train data\n",
    "# round the value upto 4 digits using 'round()'\n",
    "mape_train = round(mape(y_train_signi_var, train_pred),4)\n",
    "\n",
    "# print the MAPE for the training set\n",
    "print(\"Mean Absolute Percentage Error (MAPE) on training set: \", mape_train)\n",
    "\n",
    "# calculate the MAPE for the test data\n",
    "# round the value upto 4 digits using 'round()'\n",
    "mape_test = round(mape(y_test_signi_var, test_pred),4)\n",
    "\n",
    "# print the MAPE for the test set\n",
    "print(\"Mean Absolute Percentage Error (MAPE) on test set: \", mape_test)"
   ]
  },
  {
   "cell_type": "markdown",
   "metadata": {},
   "source": [
    "<a id=\"compare\"></a>\n",
    "# 8. Compare Model Performances"
   ]
  },
  {
   "cell_type": "markdown",
   "metadata": {},
   "source": [
    "Let us compare the model performance metrics (MSE, RMSE, MAE, MAPE) for `MLR_full_model`, `MLR_model_with_significant_var` and `MLR_interaction_model` to find the best model."
   ]
  },
  {
   "cell_type": "code",
   "execution_count": 83,
   "metadata": {},
   "outputs": [],
   "source": [
    "# create the table for all the model performance metrics\n",
    "# metrics considered for model comparision are MSE, RMSE, MAE and MAPE\n",
    "# create a list of column names\n",
    "cols = ['Model_Name', 'R-squared', 'Adj. R-squared', 'MSE', 'RMSE', 'MAE', 'MAPE']\n",
    "\n",
    "# creating a empty dataframe of the colums\n",
    "result_table = pd.DataFrame(columns = cols)"
   ]
  },
  {
   "cell_type": "markdown",
   "metadata": {},
   "source": [
    "Now, calculate performance measure for `MLR_full_model`"
   ]
  },
  {
   "cell_type": "code",
   "execution_count": 84,
   "metadata": {},
   "outputs": [
    {
     "data": {
      "text/html": [
       "<div>\n",
       "<style scoped>\n",
       "    .dataframe tbody tr th:only-of-type {\n",
       "        vertical-align: middle;\n",
       "    }\n",
       "\n",
       "    .dataframe tbody tr th {\n",
       "        vertical-align: top;\n",
       "    }\n",
       "\n",
       "    .dataframe thead th {\n",
       "        text-align: right;\n",
       "    }\n",
       "</style>\n",
       "<table border=\"1\" class=\"dataframe\">\n",
       "  <thead>\n",
       "    <tr style=\"text-align: right;\">\n",
       "      <th></th>\n",
       "      <th>Model_Name</th>\n",
       "      <th>R-squared</th>\n",
       "      <th>Adj. R-squared</th>\n",
       "      <th>MSE</th>\n",
       "      <th>RMSE</th>\n",
       "      <th>MAE</th>\n",
       "      <th>MAPE</th>\n",
       "    </tr>\n",
       "  </thead>\n",
       "  <tbody>\n",
       "    <tr>\n",
       "      <th>0</th>\n",
       "      <td>MLR Full Model</td>\n",
       "      <td>1.000000</td>\n",
       "      <td>1.000000</td>\n",
       "      <td>0.000000</td>\n",
       "      <td>0.000000</td>\n",
       "      <td>0.000000</td>\n",
       "      <td>0.000000</td>\n",
       "    </tr>\n",
       "  </tbody>\n",
       "</table>\n",
       "</div>"
      ],
      "text/plain": [
       "       Model_Name  R-squared  Adj. R-squared      MSE     RMSE      MAE  \\\n",
       "0  MLR Full Model   1.000000        1.000000 0.000000 0.000000 0.000000   \n",
       "\n",
       "      MAPE  \n",
       "0 0.000000  "
      ]
     },
     "execution_count": 84,
     "metadata": {},
     "output_type": "execute_result"
    }
   ],
   "source": [
    "# calculate R-squared, Adjusted R-squared, MSE, RMSE, MAE and MAPE for full model\n",
    "# use 'rsquared' to calculate R-squared value\n",
    "# use 'rsquared_adj' to calculate Adjusted R-squared value\n",
    "# use 'mean_squared_error' to calculate MSE\n",
    "# use 'rmse' to calculate RMSE\n",
    "# use 'mean_absolute_error' to calculate MAE\n",
    "# use the defined function 'mape' to calculate MAPE\n",
    "MLR_full_model_metrics = pd.Series({'Model_Name': \"MLR Full Model\",\n",
    "                     'R-squared': MLR_full_model.rsquared,\n",
    "                     'Adj. R-squared': MLR_full_model.rsquared_adj,\n",
    "                     'MSE': mean_squared_error(y_test_full, y_pred_full),\n",
    "                     'RMSE': rmse(y_test_full, y_pred_full),\n",
    "                     'MAE': mean_absolute_error(y_test_full, y_pred_full),\n",
    "                     'MAPE': mape(y_test_full, y_pred_full)\n",
    "                   })\n",
    "\n",
    "# append the values to the result table\n",
    "result_table = result_table.append(MLR_full_model_metrics, ignore_index = True)\n",
    "\n",
    "# print the result table\n",
    "result_table"
   ]
  },
  {
   "cell_type": "markdown",
   "metadata": {},
   "source": [
    "Now, calculate performance measure for `MLR_model_with_significant_var`"
   ]
  },
  {
   "cell_type": "code",
   "execution_count": 85,
   "metadata": {},
   "outputs": [
    {
     "data": {
      "text/html": [
       "<div>\n",
       "<style scoped>\n",
       "    .dataframe tbody tr th:only-of-type {\n",
       "        vertical-align: middle;\n",
       "    }\n",
       "\n",
       "    .dataframe tbody tr th {\n",
       "        vertical-align: top;\n",
       "    }\n",
       "\n",
       "    .dataframe thead th {\n",
       "        text-align: right;\n",
       "    }\n",
       "</style>\n",
       "<table border=\"1\" class=\"dataframe\">\n",
       "  <thead>\n",
       "    <tr style=\"text-align: right;\">\n",
       "      <th></th>\n",
       "      <th>Model_Name</th>\n",
       "      <th>R-squared</th>\n",
       "      <th>Adj. R-squared</th>\n",
       "      <th>MSE</th>\n",
       "      <th>RMSE</th>\n",
       "      <th>MAE</th>\n",
       "      <th>MAPE</th>\n",
       "    </tr>\n",
       "  </thead>\n",
       "  <tbody>\n",
       "    <tr>\n",
       "      <th>0</th>\n",
       "      <td>MLR Full Model</td>\n",
       "      <td>1.000000</td>\n",
       "      <td>1.000000</td>\n",
       "      <td>0.000000</td>\n",
       "      <td>0.000000</td>\n",
       "      <td>0.000000</td>\n",
       "      <td>0.000000</td>\n",
       "    </tr>\n",
       "    <tr>\n",
       "      <th>1</th>\n",
       "      <td>MLR Model with Significant Variables</td>\n",
       "      <td>0.961519</td>\n",
       "      <td>0.961508</td>\n",
       "      <td>0.036854</td>\n",
       "      <td>0.191973</td>\n",
       "      <td>0.116095</td>\n",
       "      <td>48.902005</td>\n",
       "    </tr>\n",
       "  </tbody>\n",
       "</table>\n",
       "</div>"
      ],
      "text/plain": [
       "                             Model_Name  R-squared  Adj. R-squared      MSE  \\\n",
       "0                        MLR Full Model   1.000000        1.000000 0.000000   \n",
       "1  MLR Model with Significant Variables   0.961519        0.961508 0.036854   \n",
       "\n",
       "      RMSE      MAE      MAPE  \n",
       "0 0.000000 0.000000  0.000000  \n",
       "1 0.191973 0.116095 48.902005  "
      ]
     },
     "execution_count": 85,
     "metadata": {},
     "output_type": "execute_result"
    }
   ],
   "source": [
    "# calculate R-squared, Adjusted R-squared, MSE, RMSE, MAE and MAPE for model with significant variables\n",
    "# use 'rsquared' to calculate R-squared value\n",
    "# use 'rsquared_adj' to calculate Adjusted R-squared value\n",
    "# use 'mean_squared_error' to calculate MSE\n",
    "# use 'rmse' to calculate RMSE\n",
    "# use 'mean_absolute_error' to calculate MAE\n",
    "# use the defined function 'mape' to calculate MAPE\n",
    "MLR_model_signi_var_metrics = pd.Series({'Model_Name': \"MLR Model with Significant Variables\",\n",
    "                     'R-squared': MLR_model_with_significant_var.rsquared,\n",
    "                     'Adj. R-squared': MLR_model_with_significant_var.rsquared_adj,\n",
    "                     'MSE': mean_squared_error(y_test_signi_var, y_pred_signi_var),\n",
    "                     'RMSE': rmse(y_test_signi_var, y_pred_signi_var),\n",
    "                     'MAE': mean_absolute_error(y_test_signi_var, y_pred_signi_var),\n",
    "                     'MAPE': mape(y_test_signi_var, y_pred_signi_var)\n",
    "                   })\n",
    "\n",
    "# append the values to the result table\n",
    "result_table = result_table.append(MLR_model_signi_var_metrics, ignore_index = True)\n",
    "\n",
    "# print the result table\n",
    "result_table"
   ]
  },
  {
   "cell_type": "markdown",
   "metadata": {},
   "source": [
    "Now, calculate the performance measures for `MLR_model_with_interaction`"
   ]
  },
  {
   "cell_type": "code",
   "execution_count": 86,
   "metadata": {},
   "outputs": [
    {
     "data": {
      "text/html": [
       "<div>\n",
       "<style scoped>\n",
       "    .dataframe tbody tr th:only-of-type {\n",
       "        vertical-align: middle;\n",
       "    }\n",
       "\n",
       "    .dataframe tbody tr th {\n",
       "        vertical-align: top;\n",
       "    }\n",
       "\n",
       "    .dataframe thead th {\n",
       "        text-align: right;\n",
       "    }\n",
       "</style>\n",
       "<table border=\"1\" class=\"dataframe\">\n",
       "  <thead>\n",
       "    <tr style=\"text-align: right;\">\n",
       "      <th></th>\n",
       "      <th>Model_Name</th>\n",
       "      <th>R-squared</th>\n",
       "      <th>Adj. R-squared</th>\n",
       "      <th>MSE</th>\n",
       "      <th>RMSE</th>\n",
       "      <th>MAE</th>\n",
       "      <th>MAPE</th>\n",
       "    </tr>\n",
       "  </thead>\n",
       "  <tbody>\n",
       "    <tr>\n",
       "      <th>0</th>\n",
       "      <td>MLR Full Model</td>\n",
       "      <td>1.000000</td>\n",
       "      <td>1.000000</td>\n",
       "      <td>0.000000</td>\n",
       "      <td>0.000000</td>\n",
       "      <td>0.000000</td>\n",
       "      <td>0.000000</td>\n",
       "    </tr>\n",
       "    <tr>\n",
       "      <th>1</th>\n",
       "      <td>MLR Model with Significant Variables</td>\n",
       "      <td>0.961519</td>\n",
       "      <td>0.961508</td>\n",
       "      <td>0.036854</td>\n",
       "      <td>0.191973</td>\n",
       "      <td>0.116095</td>\n",
       "      <td>48.902005</td>\n",
       "    </tr>\n",
       "    <tr>\n",
       "      <th>2</th>\n",
       "      <td>MLR Model with Interaction</td>\n",
       "      <td>0.963366</td>\n",
       "      <td>0.963355</td>\n",
       "      <td>0.035816</td>\n",
       "      <td>0.189251</td>\n",
       "      <td>0.111485</td>\n",
       "      <td>49.726058</td>\n",
       "    </tr>\n",
       "  </tbody>\n",
       "</table>\n",
       "</div>"
      ],
      "text/plain": [
       "                             Model_Name  R-squared  Adj. R-squared      MSE  \\\n",
       "0                        MLR Full Model   1.000000        1.000000 0.000000   \n",
       "1  MLR Model with Significant Variables   0.961519        0.961508 0.036854   \n",
       "2            MLR Model with Interaction   0.963366        0.963355 0.035816   \n",
       "\n",
       "      RMSE      MAE      MAPE  \n",
       "0 0.000000 0.000000  0.000000  \n",
       "1 0.191973 0.116095 48.902005  \n",
       "2 0.189251 0.111485 49.726058  "
      ]
     },
     "execution_count": 86,
     "metadata": {},
     "output_type": "execute_result"
    }
   ],
   "source": [
    "# calculate R-squared, Adjusted R-squared, MSE, RMSE, MAE and MAPE for model with interaction\n",
    "# use 'rsquared' to calculate R-squared value\n",
    "# use 'rsquared_adj' to calculate Adjusted R-squared value\n",
    "# use 'mean_squared_error' to calculate MSE\n",
    "# use 'rmse' to calculate RMSE\n",
    "# use 'mean_absolute_error' to calculate MAE\n",
    "# use the defined function 'mape' to calculate MAPE\n",
    "MLR_model_interaction_metrics = pd.Series({'Model_Name': \"MLR Model with Interaction\",\n",
    "                     'R-squared': MLR_model_with_interaction.rsquared,\n",
    "                     'Adj. R-squared': MLR_model_with_interaction.rsquared_adj,\n",
    "                     'MSE': mean_squared_error(y_test_inter, y_pred_inter),\n",
    "                     'RMSE': rmse(y_test_inter, y_pred_inter),\n",
    "                     'MAE': mean_absolute_error(y_test_inter, y_pred_inter),\n",
    "                     'MAPE': mape(y_test_inter, y_pred_inter)\n",
    "                   })\n",
    "\n",
    "# append the values to the result table\n",
    "result_table = result_table.append(MLR_model_interaction_metrics, ignore_index = True)\n",
    "\n",
    "# print the result table\n",
    "result_table"
   ]
  },
  {
   "cell_type": "markdown",
   "metadata": {},
   "source": [
    "**Interpretation:** The R-Squared and the Adj. R-Squared for the full model (=1) indicates that the model perfectly fits the data which is not practical and also the model is likely to overfit. Thus, MLR Full Model cannot be considered as the best model.<br>\n",
    "\n",
    "Overfitting occurs when a model learns the detail and noise in the training data to the extent that it adversely impacts the model's performance on the new data. We will learn about overfitting in the upcoming portion.<br>\n",
    "\n",
    "On the other hand, R-Squared and the Adj. R-Squared for the MLR Model with Interaction is more than the MLR Model with Significant Variables. Also, the RMSE value for the MLR Model with Interaction is less as compared to that of MLR Model with Significant Variables.<br>\n",
    "Thus, we can say that the MLR Model with Interaction is the best model.\n",
    "\n"
   ]
  }
 ],
 "metadata": {
  "kernelspec": {
   "display_name": "Python 3 (ipykernel)",
   "language": "python",
   "name": "python3"
  },
  "language_info": {
   "codemirror_mode": {
    "name": "ipython",
    "version": 3
   },
   "file_extension": ".py",
   "mimetype": "text/x-python",
   "name": "python",
   "nbconvert_exporter": "python",
   "pygments_lexer": "ipython3",
   "version": "3.11.3"
  }
 },
 "nbformat": 4,
 "nbformat_minor": 2
}
